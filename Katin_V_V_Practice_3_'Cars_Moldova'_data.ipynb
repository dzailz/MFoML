{
  "nbformat": 4,
  "nbformat_minor": 0,
  "metadata": {
    "colab": {
      "provenance": [],
      "toc_visible": true,
      "include_colab_link": true
    },
    "kernelspec": {
      "name": "python3",
      "display_name": "Python 3"
    },
    "language_info": {
      "name": "python"
    }
  },
  "cells": [
    {
      "cell_type": "markdown",
      "metadata": {
        "id": "view-in-github",
        "colab_type": "text"
      },
      "source": [
        "<a href=\"https://colab.research.google.com/github/dzailz/MFoML/blob/main/Katin_V_V_Practice_3_'Cars_Moldova'_data.ipynb\" target=\"_parent\"><img src=\"https://colab.research.google.com/assets/colab-badge.svg\" alt=\"Open In Colab\"/></a>"
      ]
    },
    {
      "cell_type": "code",
      "source": [
        "import numpy as np\n",
        "import pandas as pd\n",
        "\n",
        "from sklearn.datasets import make_moons, make_circles\n",
        "\n",
        "import matplotlib.pyplot as plt\n",
        "from matplotlib.colors import ListedColormap\n",
        "import seaborn as sns\n",
        "\n",
        "from sklearn.model_selection import train_test_split\n",
        "\n",
        "from sklearn.linear_model import LogisticRegression\n",
        "from sklearn.model_selection import GridSearchCV\n",
        "\n",
        "from sklearn.metrics import accuracy_score, precision_score, recall_score, f1_score\n",
        "from sklearn.metrics import confusion_matrix\n",
        "from sklearn.metrics import auc, roc_auc_score, roc_curve\n",
        "\n",
        "from sklearn.metrics import accuracy_score as acc\n",
        "from sklearn.metrics import f1_score as f1\n",
        "\n",
        "from sklearn.metrics import classification_report\n",
        "\n",
        "from sklearn.preprocessing import MinMaxScaler"
      ],
      "metadata": {
        "id": "mHAHfcoIZAMW"
      },
      "execution_count": 1,
      "outputs": []
    },
    {
      "cell_type": "markdown",
      "source": [
        "# Вспомогательные функции"
      ],
      "metadata": {
        "id": "RiXCn-pXa3SE"
      }
    },
    {
      "cell_type": "code",
      "source": [
        "from random import choice\n",
        "def random_color() -> str:\n",
        "    return \"#\" + \"\".join([choice('0123456789ABCDEF') for j in range(6)])"
      ],
      "metadata": {
        "id": "XCT1kgApYZ5k"
      },
      "execution_count": 2,
      "outputs": []
    },
    {
      "cell_type": "code",
      "source": [
        "from typing import Any\n",
        "from pandas.core.api import DataFrame\n",
        "def pd_read_csv(file: Any, delimiter: str = \",\") -> DataFrame:\n",
        "    return pd.read_csv(file, delimiter = delimiter)"
      ],
      "metadata": {
        "id": "lJ_ptucfaoYV"
      },
      "execution_count": 3,
      "outputs": []
    },
    {
      "cell_type": "code",
      "source": [
        "def conf_matrix(y_test, y_predict):\n",
        "    \"\"\"Функция матрицы несоответствий\"\"\"\n",
        "    c_matrix = confusion_matrix(y_test, y_predict)\n",
        "    TN = c_matrix[0, 0]\n",
        "    TP = c_matrix[1, 1]\n",
        "    FN = c_matrix[1, 0]\n",
        "    FP = c_matrix[0, 1]\n",
        "\n",
        "    print(f\"\"\"Истинно-отрицательные результаты:   {TN}\n",
        "Истинно-положительные результаты:  {TP}\n",
        "Ложно-положительные результаты: {FP}\n",
        "Ложно-отрицательные результаты: {FN}\n",
        "\n",
        "Доля правильных ответов алгоритма:  {round((TP + TN) / float(TP + TN +FP + FN), 3)}\n",
        "Точность: {round(TP / float(TP + FP), 3)}\n",
        "Полнота:    {round(TP / float(TP + FN), 3)}\n",
        "Специфичность: {round(TN / float(TN + FP), 3)}\n",
        "Отрицательные:  {round(TN / float(TN + FN), 3)}\"\"\")"
      ],
      "metadata": {
        "id": "s3FBJgzjhqGQ"
      },
      "execution_count": 4,
      "outputs": []
    },
    {
      "cell_type": "code",
      "source": [
        "def roc_auc(y_test, y_predict, dens=True):\n",
        "    probs = y_predict\n",
        "\n",
        "    false, true, threshold = roc_curve(y_test, probs)\n",
        "    roc_auc = roc_auc_score(y_test, probs)\n",
        "\n",
        "    plt.figure()\n",
        "    fig, ax = plt.subplots(figsize=(7,7))\n",
        "    plt.plot([0, 1], label=\"Случайное предположение\", linestyle=\"--\", color=random_color())\n",
        "    plt.plot([0, 0, 1], [0, 1, 1], lw=2, linestyle=\":\", color=random_color(), label = \"Идеальный результат\")\n",
        "    plt.plot(false, true, label=\"ROC-AUC\", color=random_color())\n",
        "    ax.set_title(\"ROC-кривая = %0.3f\"%roc_auc)\n",
        "    plt.ylabel(\"Истинный положительный показатель\")\n",
        "    plt.xlabel(\"Ложно-положительный показатель\")\n",
        "    plt.legend(loc='lower right')\n",
        "    plt.show()"
      ],
      "metadata": {
        "id": "o-k0wl27hzei"
      },
      "execution_count": 5,
      "outputs": []
    },
    {
      "cell_type": "markdown",
      "source": [
        "# Логистическая регрессия"
      ],
      "metadata": {
        "id": "bclQ15763_qC"
      }
    },
    {
      "cell_type": "markdown",
      "source": [
        "### Выгрузим с гитхаба ранее сохраненые данные и проверим отсутсвие типа object"
      ],
      "metadata": {
        "id": "vtdvMNvW4D-K"
      }
    },
    {
      "cell_type": "code",
      "source": [
        "df = pd_read_csv(\"https://raw.githubusercontent.com/dzailz/MFoML/main/cars_moldova_num.csv\")\n",
        "df.info()"
      ],
      "metadata": {
        "id": "5g8MMLTBZUMX",
        "colab": {
          "base_uri": "https://localhost:8080/"
        },
        "outputId": "c0c9732a-71de-44b3-df2f-582328d3710d"
      },
      "execution_count": 6,
      "outputs": [
        {
          "output_type": "stream",
          "name": "stdout",
          "text": [
            "<class 'pandas.core.frame.DataFrame'>\n",
            "RangeIndex: 32595 entries, 0 to 32594\n",
            "Data columns (total 15 columns):\n",
            " #   Column                Non-Null Count  Dtype  \n",
            "---  ------                --------------  -----  \n",
            " 0   Make                  32595 non-null  int64  \n",
            " 1   Model                 32595 non-null  int64  \n",
            " 2   Year                  32595 non-null  int64  \n",
            " 3   Style                 32595 non-null  int64  \n",
            " 4   Distance              32595 non-null  float64\n",
            " 5   Engine_capacity(cm3)  32595 non-null  float64\n",
            " 6   Fuel_type             32595 non-null  int64  \n",
            " 7   Transmission          32595 non-null  int64  \n",
            " 8   Price(euro)           32595 non-null  float64\n",
            " 9   Age                   32595 non-null  int64  \n",
            " 10  km_year               32595 non-null  float64\n",
            " 11  price/km              32595 non-null  float64\n",
            " 12  luxury                32595 non-null  int64  \n",
            " 13  eco                   32595 non-null  int64  \n",
            " 14  relative_age          32595 non-null  int64  \n",
            "dtypes: float64(5), int64(10)\n",
            "memory usage: 3.7 MB\n"
          ]
        }
      ]
    },
    {
      "cell_type": "markdown",
      "source": [
        "### Разобьем данные по типам"
      ],
      "metadata": {
        "id": "JHXb3_rQc-yD"
      }
    },
    {
      "cell_type": "code",
      "source": [
        "df.sample(10)"
      ],
      "metadata": {
        "colab": {
          "base_uri": "https://localhost:8080/",
          "height": 363
        },
        "id": "xCznMEdKiUez",
        "outputId": "87bed1f4-395c-44f3-f0b8-5dd300e396c5"
      },
      "execution_count": 7,
      "outputs": [
        {
          "output_type": "execute_result",
          "data": {
            "text/plain": [
              "       Make  Model  Year  Style  Distance  Engine_capacity(cm3)  Fuel_type  \\\n",
              "14985    29    102  2012     10  188500.0                2000.0          2   \n",
              "19899    34     86  2013     10  144000.0                1800.0          4   \n",
              "24446    17    102  2000      3  320000.0                3100.0          0   \n",
              "22903    38    102  2004     11  250000.0                1400.0          0   \n",
              "24210    25     72  2008     10  164353.0                1584.0          4   \n",
              "16884    14    122  2006      3  272121.0                2000.0          3   \n",
              "26810    34    102  2009      6  185000.0                1200.0          3   \n",
              "31288     2    131  2008      3  345000.0                3000.0          0   \n",
              "22525    42     91  2000     11  282205.0                1422.0          0   \n",
              "293      34    115  2014     10  202300.0                1598.0          0   \n",
              "\n",
              "       Transmission  Price(euro)  Age       km_year  price/km  luxury  eco  \\\n",
              "14985             0      10300.0   10  18850.000000  0.054642       0    1   \n",
              "19899             0      10600.0    9  16000.000000  0.073611       0    0   \n",
              "24446             0       2500.0   22  14545.454545  0.007812       0    0   \n",
              "22903             1       2650.0   18  13888.888889  0.010600       0    0   \n",
              "24210             1       5000.0   14  11739.500000  0.030422       0    0   \n",
              "16884             1       5650.0   16  17007.562500  0.020763       0    0   \n",
              "26810             1       4300.0   13  14230.769231  0.023243       0    0   \n",
              "31288             0      13500.0   14  24642.857143  0.039130       1    0   \n",
              "22525             1       2200.0   22  12827.500000  0.007796       0    0   \n",
              "293               0      13199.0    8  25287.500000  0.065245       0    0   \n",
              "\n",
              "       relative_age  \n",
              "14985             0  \n",
              "19899             0  \n",
              "24446             1  \n",
              "22903             1  \n",
              "24210             1  \n",
              "16884             1  \n",
              "26810             1  \n",
              "31288             1  \n",
              "22525             1  \n",
              "293               0  "
            ],
            "text/html": [
              "\n",
              "  <div id=\"df-6df8665c-0330-43dc-8b8d-ba4a47632c0b\">\n",
              "    <div class=\"colab-df-container\">\n",
              "      <div>\n",
              "<style scoped>\n",
              "    .dataframe tbody tr th:only-of-type {\n",
              "        vertical-align: middle;\n",
              "    }\n",
              "\n",
              "    .dataframe tbody tr th {\n",
              "        vertical-align: top;\n",
              "    }\n",
              "\n",
              "    .dataframe thead th {\n",
              "        text-align: right;\n",
              "    }\n",
              "</style>\n",
              "<table border=\"1\" class=\"dataframe\">\n",
              "  <thead>\n",
              "    <tr style=\"text-align: right;\">\n",
              "      <th></th>\n",
              "      <th>Make</th>\n",
              "      <th>Model</th>\n",
              "      <th>Year</th>\n",
              "      <th>Style</th>\n",
              "      <th>Distance</th>\n",
              "      <th>Engine_capacity(cm3)</th>\n",
              "      <th>Fuel_type</th>\n",
              "      <th>Transmission</th>\n",
              "      <th>Price(euro)</th>\n",
              "      <th>Age</th>\n",
              "      <th>km_year</th>\n",
              "      <th>price/km</th>\n",
              "      <th>luxury</th>\n",
              "      <th>eco</th>\n",
              "      <th>relative_age</th>\n",
              "    </tr>\n",
              "  </thead>\n",
              "  <tbody>\n",
              "    <tr>\n",
              "      <th>14985</th>\n",
              "      <td>29</td>\n",
              "      <td>102</td>\n",
              "      <td>2012</td>\n",
              "      <td>10</td>\n",
              "      <td>188500.0</td>\n",
              "      <td>2000.0</td>\n",
              "      <td>2</td>\n",
              "      <td>0</td>\n",
              "      <td>10300.0</td>\n",
              "      <td>10</td>\n",
              "      <td>18850.000000</td>\n",
              "      <td>0.054642</td>\n",
              "      <td>0</td>\n",
              "      <td>1</td>\n",
              "      <td>0</td>\n",
              "    </tr>\n",
              "    <tr>\n",
              "      <th>19899</th>\n",
              "      <td>34</td>\n",
              "      <td>86</td>\n",
              "      <td>2013</td>\n",
              "      <td>10</td>\n",
              "      <td>144000.0</td>\n",
              "      <td>1800.0</td>\n",
              "      <td>4</td>\n",
              "      <td>0</td>\n",
              "      <td>10600.0</td>\n",
              "      <td>9</td>\n",
              "      <td>16000.000000</td>\n",
              "      <td>0.073611</td>\n",
              "      <td>0</td>\n",
              "      <td>0</td>\n",
              "      <td>0</td>\n",
              "    </tr>\n",
              "    <tr>\n",
              "      <th>24446</th>\n",
              "      <td>17</td>\n",
              "      <td>102</td>\n",
              "      <td>2000</td>\n",
              "      <td>3</td>\n",
              "      <td>320000.0</td>\n",
              "      <td>3100.0</td>\n",
              "      <td>0</td>\n",
              "      <td>0</td>\n",
              "      <td>2500.0</td>\n",
              "      <td>22</td>\n",
              "      <td>14545.454545</td>\n",
              "      <td>0.007812</td>\n",
              "      <td>0</td>\n",
              "      <td>0</td>\n",
              "      <td>1</td>\n",
              "    </tr>\n",
              "    <tr>\n",
              "      <th>22903</th>\n",
              "      <td>38</td>\n",
              "      <td>102</td>\n",
              "      <td>2004</td>\n",
              "      <td>11</td>\n",
              "      <td>250000.0</td>\n",
              "      <td>1400.0</td>\n",
              "      <td>0</td>\n",
              "      <td>1</td>\n",
              "      <td>2650.0</td>\n",
              "      <td>18</td>\n",
              "      <td>13888.888889</td>\n",
              "      <td>0.010600</td>\n",
              "      <td>0</td>\n",
              "      <td>0</td>\n",
              "      <td>1</td>\n",
              "    </tr>\n",
              "    <tr>\n",
              "      <th>24210</th>\n",
              "      <td>25</td>\n",
              "      <td>72</td>\n",
              "      <td>2008</td>\n",
              "      <td>10</td>\n",
              "      <td>164353.0</td>\n",
              "      <td>1584.0</td>\n",
              "      <td>4</td>\n",
              "      <td>1</td>\n",
              "      <td>5000.0</td>\n",
              "      <td>14</td>\n",
              "      <td>11739.500000</td>\n",
              "      <td>0.030422</td>\n",
              "      <td>0</td>\n",
              "      <td>0</td>\n",
              "      <td>1</td>\n",
              "    </tr>\n",
              "    <tr>\n",
              "      <th>16884</th>\n",
              "      <td>14</td>\n",
              "      <td>122</td>\n",
              "      <td>2006</td>\n",
              "      <td>3</td>\n",
              "      <td>272121.0</td>\n",
              "      <td>2000.0</td>\n",
              "      <td>3</td>\n",
              "      <td>1</td>\n",
              "      <td>5650.0</td>\n",
              "      <td>16</td>\n",
              "      <td>17007.562500</td>\n",
              "      <td>0.020763</td>\n",
              "      <td>0</td>\n",
              "      <td>0</td>\n",
              "      <td>1</td>\n",
              "    </tr>\n",
              "    <tr>\n",
              "      <th>26810</th>\n",
              "      <td>34</td>\n",
              "      <td>102</td>\n",
              "      <td>2009</td>\n",
              "      <td>6</td>\n",
              "      <td>185000.0</td>\n",
              "      <td>1200.0</td>\n",
              "      <td>3</td>\n",
              "      <td>1</td>\n",
              "      <td>4300.0</td>\n",
              "      <td>13</td>\n",
              "      <td>14230.769231</td>\n",
              "      <td>0.023243</td>\n",
              "      <td>0</td>\n",
              "      <td>0</td>\n",
              "      <td>1</td>\n",
              "    </tr>\n",
              "    <tr>\n",
              "      <th>31288</th>\n",
              "      <td>2</td>\n",
              "      <td>131</td>\n",
              "      <td>2008</td>\n",
              "      <td>3</td>\n",
              "      <td>345000.0</td>\n",
              "      <td>3000.0</td>\n",
              "      <td>0</td>\n",
              "      <td>0</td>\n",
              "      <td>13500.0</td>\n",
              "      <td>14</td>\n",
              "      <td>24642.857143</td>\n",
              "      <td>0.039130</td>\n",
              "      <td>1</td>\n",
              "      <td>0</td>\n",
              "      <td>1</td>\n",
              "    </tr>\n",
              "    <tr>\n",
              "      <th>22525</th>\n",
              "      <td>42</td>\n",
              "      <td>91</td>\n",
              "      <td>2000</td>\n",
              "      <td>11</td>\n",
              "      <td>282205.0</td>\n",
              "      <td>1422.0</td>\n",
              "      <td>0</td>\n",
              "      <td>1</td>\n",
              "      <td>2200.0</td>\n",
              "      <td>22</td>\n",
              "      <td>12827.500000</td>\n",
              "      <td>0.007796</td>\n",
              "      <td>0</td>\n",
              "      <td>0</td>\n",
              "      <td>1</td>\n",
              "    </tr>\n",
              "    <tr>\n",
              "      <th>293</th>\n",
              "      <td>34</td>\n",
              "      <td>115</td>\n",
              "      <td>2014</td>\n",
              "      <td>10</td>\n",
              "      <td>202300.0</td>\n",
              "      <td>1598.0</td>\n",
              "      <td>0</td>\n",
              "      <td>0</td>\n",
              "      <td>13199.0</td>\n",
              "      <td>8</td>\n",
              "      <td>25287.500000</td>\n",
              "      <td>0.065245</td>\n",
              "      <td>0</td>\n",
              "      <td>0</td>\n",
              "      <td>0</td>\n",
              "    </tr>\n",
              "  </tbody>\n",
              "</table>\n",
              "</div>\n",
              "      <button class=\"colab-df-convert\" onclick=\"convertToInteractive('df-6df8665c-0330-43dc-8b8d-ba4a47632c0b')\"\n",
              "              title=\"Convert this dataframe to an interactive table.\"\n",
              "              style=\"display:none;\">\n",
              "        \n",
              "  <svg xmlns=\"http://www.w3.org/2000/svg\" height=\"24px\"viewBox=\"0 0 24 24\"\n",
              "       width=\"24px\">\n",
              "    <path d=\"M0 0h24v24H0V0z\" fill=\"none\"/>\n",
              "    <path d=\"M18.56 5.44l.94 2.06.94-2.06 2.06-.94-2.06-.94-.94-2.06-.94 2.06-2.06.94zm-11 1L8.5 8.5l.94-2.06 2.06-.94-2.06-.94L8.5 2.5l-.94 2.06-2.06.94zm10 10l.94 2.06.94-2.06 2.06-.94-2.06-.94-.94-2.06-.94 2.06-2.06.94z\"/><path d=\"M17.41 7.96l-1.37-1.37c-.4-.4-.92-.59-1.43-.59-.52 0-1.04.2-1.43.59L10.3 9.45l-7.72 7.72c-.78.78-.78 2.05 0 2.83L4 21.41c.39.39.9.59 1.41.59.51 0 1.02-.2 1.41-.59l7.78-7.78 2.81-2.81c.8-.78.8-2.07 0-2.86zM5.41 20L4 18.59l7.72-7.72 1.47 1.35L5.41 20z\"/>\n",
              "  </svg>\n",
              "      </button>\n",
              "      \n",
              "  <style>\n",
              "    .colab-df-container {\n",
              "      display:flex;\n",
              "      flex-wrap:wrap;\n",
              "      gap: 12px;\n",
              "    }\n",
              "\n",
              "    .colab-df-convert {\n",
              "      background-color: #E8F0FE;\n",
              "      border: none;\n",
              "      border-radius: 50%;\n",
              "      cursor: pointer;\n",
              "      display: none;\n",
              "      fill: #1967D2;\n",
              "      height: 32px;\n",
              "      padding: 0 0 0 0;\n",
              "      width: 32px;\n",
              "    }\n",
              "\n",
              "    .colab-df-convert:hover {\n",
              "      background-color: #E2EBFA;\n",
              "      box-shadow: 0px 1px 2px rgba(60, 64, 67, 0.3), 0px 1px 3px 1px rgba(60, 64, 67, 0.15);\n",
              "      fill: #174EA6;\n",
              "    }\n",
              "\n",
              "    [theme=dark] .colab-df-convert {\n",
              "      background-color: #3B4455;\n",
              "      fill: #D2E3FC;\n",
              "    }\n",
              "\n",
              "    [theme=dark] .colab-df-convert:hover {\n",
              "      background-color: #434B5C;\n",
              "      box-shadow: 0px 1px 3px 1px rgba(0, 0, 0, 0.15);\n",
              "      filter: drop-shadow(0px 1px 2px rgba(0, 0, 0, 0.3));\n",
              "      fill: #FFFFFF;\n",
              "    }\n",
              "  </style>\n",
              "\n",
              "      <script>\n",
              "        const buttonEl =\n",
              "          document.querySelector('#df-6df8665c-0330-43dc-8b8d-ba4a47632c0b button.colab-df-convert');\n",
              "        buttonEl.style.display =\n",
              "          google.colab.kernel.accessAllowed ? 'block' : 'none';\n",
              "\n",
              "        async function convertToInteractive(key) {\n",
              "          const element = document.querySelector('#df-6df8665c-0330-43dc-8b8d-ba4a47632c0b');\n",
              "          const dataTable =\n",
              "            await google.colab.kernel.invokeFunction('convertToInteractive',\n",
              "                                                     [key], {});\n",
              "          if (!dataTable) return;\n",
              "\n",
              "          const docLinkHtml = 'Like what you see? Visit the ' +\n",
              "            '<a target=\"_blank\" href=https://colab.research.google.com/notebooks/data_table.ipynb>data table notebook</a>'\n",
              "            + ' to learn more about interactive tables.';\n",
              "          element.innerHTML = '';\n",
              "          dataTable['output_type'] = 'display_data';\n",
              "          await google.colab.output.renderOutput(dataTable, element);\n",
              "          const docLink = document.createElement('div');\n",
              "          docLink.innerHTML = docLinkHtml;\n",
              "          element.appendChild(docLink);\n",
              "        }\n",
              "      </script>\n",
              "    </div>\n",
              "  </div>\n",
              "  "
            ]
          },
          "metadata": {},
          "execution_count": 7
        }
      ]
    },
    {
      "cell_type": "code",
      "source": [
        "cat_columns = [\"Make\", \"Model\", \"Style\", \"Fuel_type\", \"Transmission\", \"luxury\", \"eco\", \"relative_age\"]\n",
        "num_columns = [\"Year\", \"Distance\", \"Engine_capacity(cm3)\", \"Price(euro)\", \"km_year\", \"price/km\"]"
      ],
      "metadata": {
        "id": "GGFaDhZPlwKw"
      },
      "execution_count": 8,
      "outputs": []
    },
    {
      "cell_type": "markdown",
      "source": [
        "### Разобьем на тестовую и тренировочную выборку только числовые данные "
      ],
      "metadata": {
        "id": "pWzrwkQLdJRg"
      }
    },
    {
      "cell_type": "code",
      "source": [
        "X = df[num_columns].copy()\n",
        "y = df[\"Transmission\"]\n",
        "\n",
        "X_train, X_test, y_train, y_test = train_test_split(X, y, test_size=0.3, random_state=22)"
      ],
      "metadata": {
        "id": "rAEe8A7smo5h"
      },
      "execution_count": 9,
      "outputs": []
    },
    {
      "cell_type": "markdown",
      "source": [
        "Создаем модель на основе логистической регрессии"
      ],
      "metadata": {
        "id": "iGTM1Yjx4RIB"
      }
    },
    {
      "cell_type": "code",
      "source": [
        "log_r = LogisticRegression(fit_intercept=True, penalty='l2', solver='saga', C=1, max_iter=100000)\n",
        "log_r.fit(X_train, y_train)"
      ],
      "metadata": {
        "id": "tDEDt-sEy2Jn",
        "colab": {
          "base_uri": "https://localhost:8080/"
        },
        "outputId": "f69e24cb-e755-4c15-afc2-10fc914cb9d6"
      },
      "execution_count": 10,
      "outputs": [
        {
          "output_type": "execute_result",
          "data": {
            "text/plain": [
              "LogisticRegression(C=1, max_iter=100000, solver='saga')"
            ]
          },
          "metadata": {},
          "execution_count": 10
        }
      ]
    },
    {
      "cell_type": "code",
      "source": [
        "y_predict = log_r.predict(X_test)"
      ],
      "metadata": {
        "id": "LwLGeLsP1XnS"
      },
      "execution_count": 11,
      "outputs": []
    },
    {
      "cell_type": "markdown",
      "source": [
        "Смотрим что получилось"
      ],
      "metadata": {
        "id": "DfZhG7xr4am7"
      }
    },
    {
      "cell_type": "code",
      "source": [
        "print(classification_report(y_test, y_predict, target_names=['Manual','Auto']))"
      ],
      "metadata": {
        "colab": {
          "base_uri": "https://localhost:8080/"
        },
        "id": "Q_ZoLgF5jU_J",
        "outputId": "ce1a5bdc-d590-4caa-e2fe-0a357cd877c8"
      },
      "execution_count": 12,
      "outputs": [
        {
          "output_type": "stream",
          "name": "stdout",
          "text": [
            "              precision    recall  f1-score   support\n",
            "\n",
            "      Manual       0.82      0.72      0.76      4432\n",
            "        Auto       0.79      0.87      0.83      5347\n",
            "\n",
            "    accuracy                           0.80      9779\n",
            "   macro avg       0.80      0.79      0.79      9779\n",
            "weighted avg       0.80      0.80      0.80      9779\n",
            "\n"
          ]
        }
      ]
    },
    {
      "cell_type": "code",
      "source": [
        "print('Test score: {:.4f}'.format(log_r.score(X_test, y_test)))\n",
        "print('Train score: {:.4f}'.format(log_r.score(X_train, y_train)))"
      ],
      "metadata": {
        "colab": {
          "base_uri": "https://localhost:8080/"
        },
        "id": "-H0pLFr42_Nq",
        "outputId": "48f9610d-5306-4d89-febd-9201dd6904ef"
      },
      "execution_count": 13,
      "outputs": [
        {
          "output_type": "stream",
          "name": "stdout",
          "text": [
            "Test score: 0.7988\n",
            "Train score: 0.7986\n"
          ]
        }
      ]
    },
    {
      "cell_type": "code",
      "source": [
        "conf_matrix(y_test, y_predict)"
      ],
      "metadata": {
        "colab": {
          "base_uri": "https://localhost:8080/"
        },
        "id": "FvdVtatMhsNa",
        "outputId": "1d6b5713-535c-41cf-d832-1e06ceb20363"
      },
      "execution_count": 14,
      "outputs": [
        {
          "output_type": "stream",
          "name": "stdout",
          "text": [
            "Истинно-отрицательные результаты:   3169\n",
            "Истинно-положительные результаты:  4642\n",
            "Ложно-положительные результаты: 1263\n",
            "Ложно-отрицательные результаты: 705\n",
            "\n",
            "Доля правильных ответов алгоритма:  0.799\n",
            "Точность: 0.786\n",
            "Полнота:    0.868\n",
            "Специфичность: 0.715\n",
            "Отрицательные:  0.818\n"
          ]
        }
      ]
    },
    {
      "cell_type": "markdown",
      "source": [
        "Показатели приведеные выше говорят о том, что модель не идеальна, но и не очень плоха"
      ],
      "metadata": {
        "id": "9oHa2tAT4w2f"
      }
    },
    {
      "cell_type": "code",
      "source": [
        "roc_auc(y_test, y_predict)"
      ],
      "metadata": {
        "colab": {
          "base_uri": "https://localhost:8080/",
          "height": 475
        },
        "id": "JYzcM9xOhxhb",
        "outputId": "2e97554a-cce4-4161-f004-ecf5dd901f33"
      },
      "execution_count": 15,
      "outputs": [
        {
          "output_type": "display_data",
          "data": {
            "text/plain": [
              "<Figure size 432x288 with 0 Axes>"
            ]
          },
          "metadata": {}
        },
        {
          "output_type": "display_data",
          "data": {
            "text/plain": [
              "<Figure size 504x504 with 1 Axes>"
            ],
            "image/png": "[encoded data removed]"
          },
          "metadata": {
            "needs_background": "light"
          }
        }
      ]
    },
    {
      "cell_type": "markdown",
      "source": [
        "График ROC-кривой показывает площадь под кривой - 0,792."
      ],
      "metadata": {
        "id": "Okgk_v285PkH"
      }
    },
    {
      "cell_type": "markdown",
      "source": [
        "# Стандартизированные данные"
      ],
      "metadata": {
        "id": "401vC98SnuE8"
      }
    },
    {
      "cell_type": "markdown",
      "source": [
        "## Посмотрим как поведет себя модель логистической регрессии на основе стандартизированных данных."
      ],
      "metadata": {
        "id": "-87l81ER5gOJ"
      }
    },
    {
      "cell_type": "markdown",
      "source": [
        "### Скачиваем с github таблицу со стандартизированными данными"
      ],
      "metadata": {
        "id": "owfk_nYOo0Hw"
      }
    },
    {
      "cell_type": "code",
      "source": [
        "df_std = pd_read_csv(\"https://raw.githubusercontent.com/dzailz/MFoML/main/cars_moldova_stand.csv\")\n",
        "df_std[num_columns].head(5)"
      ],
      "metadata": {
        "colab": {
          "base_uri": "https://localhost:8080/",
          "height": 206
        },
        "id": "pTk3s9v4iDAg",
        "outputId": "28763943-ff6a-4f30-faec-e72b26f16c48"
      },
      "execution_count": 16,
      "outputs": [
        {
          "output_type": "execute_result",
          "data": {
            "text/plain": [
              "       Year  Distance  Engine_capacity(cm3)  Price(euro)   km_year  price/km\n",
              "0  0.371579  0.137604             -0.073059    -0.180885  0.384365 -0.051813\n",
              "1  0.787743 -0.480459             -0.543659    -0.097067  0.268438 -0.045889\n",
              "2  0.510300 -0.737985             -0.543659    -0.306611 -0.530687 -0.046840\n",
              "3 -0.322027  0.189109             -0.386793    -0.563301 -0.326655 -0.056645\n",
              "4 -1.154355  1.219213              0.554408    -0.627212 -0.172085 -0.058872"
            ],
            "text/html": [
              "\n",
              "  <div id=\"df-51ba80a5-3b9b-4a04-a341-27b1d990c8e7\">\n",
              "    <div class=\"colab-df-container\">\n",
              "      <div>\n",
              "<style scoped>\n",
              "    .dataframe tbody tr th:only-of-type {\n",
              "        vertical-align: middle;\n",
              "    }\n",
              "\n",
              "    .dataframe tbody tr th {\n",
              "        vertical-align: top;\n",
              "    }\n",
              "\n",
              "    .dataframe thead th {\n",
              "        text-align: right;\n",
              "    }\n",
              "</style>\n",
              "<table border=\"1\" class=\"dataframe\">\n",
              "  <thead>\n",
              "    <tr style=\"text-align: right;\">\n",
              "      <th></th>\n",
              "      <th>Year</th>\n",
              "      <th>Distance</th>\n",
              "      <th>Engine_capacity(cm3)</th>\n",
              "      <th>Price(euro)</th>\n",
              "      <th>km_year</th>\n",
              "      <th>price/km</th>\n",
              "    </tr>\n",
              "  </thead>\n",
              "  <tbody>\n",
              "    <tr>\n",
              "      <th>0</th>\n",
              "      <td>0.371579</td>\n",
              "      <td>0.137604</td>\n",
              "      <td>-0.073059</td>\n",
              "      <td>-0.180885</td>\n",
              "      <td>0.384365</td>\n",
              "      <td>-0.051813</td>\n",
              "    </tr>\n",
              "    <tr>\n",
              "      <th>1</th>\n",
              "      <td>0.787743</td>\n",
              "      <td>-0.480459</td>\n",
              "      <td>-0.543659</td>\n",
              "      <td>-0.097067</td>\n",
              "      <td>0.268438</td>\n",
              "      <td>-0.045889</td>\n",
              "    </tr>\n",
              "    <tr>\n",
              "      <th>2</th>\n",
              "      <td>0.510300</td>\n",
              "      <td>-0.737985</td>\n",
              "      <td>-0.543659</td>\n",
              "      <td>-0.306611</td>\n",
              "      <td>-0.530687</td>\n",
              "      <td>-0.046840</td>\n",
              "    </tr>\n",
              "    <tr>\n",
              "      <th>3</th>\n",
              "      <td>-0.322027</td>\n",
              "      <td>0.189109</td>\n",
              "      <td>-0.386793</td>\n",
              "      <td>-0.563301</td>\n",
              "      <td>-0.326655</td>\n",
              "      <td>-0.056645</td>\n",
              "    </tr>\n",
              "    <tr>\n",
              "      <th>4</th>\n",
              "      <td>-1.154355</td>\n",
              "      <td>1.219213</td>\n",
              "      <td>0.554408</td>\n",
              "      <td>-0.627212</td>\n",
              "      <td>-0.172085</td>\n",
              "      <td>-0.058872</td>\n",
              "    </tr>\n",
              "  </tbody>\n",
              "</table>\n",
              "</div>\n",
              "      <button class=\"colab-df-convert\" onclick=\"convertToInteractive('df-51ba80a5-3b9b-4a04-a341-27b1d990c8e7')\"\n",
              "              title=\"Convert this dataframe to an interactive table.\"\n",
              "              style=\"display:none;\">\n",
              "        \n",
              "  <svg xmlns=\"http://www.w3.org/2000/svg\" height=\"24px\"viewBox=\"0 0 24 24\"\n",
              "       width=\"24px\">\n",
              "    <path d=\"M0 0h24v24H0V0z\" fill=\"none\"/>\n",
              "    <path d=\"M18.56 5.44l.94 2.06.94-2.06 2.06-.94-2.06-.94-.94-2.06-.94 2.06-2.06.94zm-11 1L8.5 8.5l.94-2.06 2.06-.94-2.06-.94L8.5 2.5l-.94 2.06-2.06.94zm10 10l.94 2.06.94-2.06 2.06-.94-2.06-.94-.94-2.06-.94 2.06-2.06.94z\"/><path d=\"M17.41 7.96l-1.37-1.37c-.4-.4-.92-.59-1.43-.59-.52 0-1.04.2-1.43.59L10.3 9.45l-7.72 7.72c-.78.78-.78 2.05 0 2.83L4 21.41c.39.39.9.59 1.41.59.51 0 1.02-.2 1.41-.59l7.78-7.78 2.81-2.81c.8-.78.8-2.07 0-2.86zM5.41 20L4 18.59l7.72-7.72 1.47 1.35L5.41 20z\"/>\n",
              "  </svg>\n",
              "      </button>\n",
              "      \n",
              "  <style>\n",
              "    .colab-df-container {\n",
              "      display:flex;\n",
              "      flex-wrap:wrap;\n",
              "      gap: 12px;\n",
              "    }\n",
              "\n",
              "    .colab-df-convert {\n",
              "      background-color: #E8F0FE;\n",
              "      border: none;\n",
              "      border-radius: 50%;\n",
              "      cursor: pointer;\n",
              "      display: none;\n",
              "      fill: #1967D2;\n",
              "      height: 32px;\n",
              "      padding: 0 0 0 0;\n",
              "      width: 32px;\n",
              "    }\n",
              "\n",
              "    .colab-df-convert:hover {\n",
              "      background-color: #E2EBFA;\n",
              "      box-shadow: 0px 1px 2px rgba(60, 64, 67, 0.3), 0px 1px 3px 1px rgba(60, 64, 67, 0.15);\n",
              "      fill: #174EA6;\n",
              "    }\n",
              "\n",
              "    [theme=dark] .colab-df-convert {\n",
              "      background-color: #3B4455;\n",
              "      fill: #D2E3FC;\n",
              "    }\n",
              "\n",
              "    [theme=dark] .colab-df-convert:hover {\n",
              "      background-color: #434B5C;\n",
              "      box-shadow: 0px 1px 3px 1px rgba(0, 0, 0, 0.15);\n",
              "      filter: drop-shadow(0px 1px 2px rgba(0, 0, 0, 0.3));\n",
              "      fill: #FFFFFF;\n",
              "    }\n",
              "  </style>\n",
              "\n",
              "      <script>\n",
              "        const buttonEl =\n",
              "          document.querySelector('#df-51ba80a5-3b9b-4a04-a341-27b1d990c8e7 button.colab-df-convert');\n",
              "        buttonEl.style.display =\n",
              "          google.colab.kernel.accessAllowed ? 'block' : 'none';\n",
              "\n",
              "        async function convertToInteractive(key) {\n",
              "          const element = document.querySelector('#df-51ba80a5-3b9b-4a04-a341-27b1d990c8e7');\n",
              "          const dataTable =\n",
              "            await google.colab.kernel.invokeFunction('convertToInteractive',\n",
              "                                                     [key], {});\n",
              "          if (!dataTable) return;\n",
              "\n",
              "          const docLinkHtml = 'Like what you see? Visit the ' +\n",
              "            '<a target=\"_blank\" href=https://colab.research.google.com/notebooks/data_table.ipynb>data table notebook</a>'\n",
              "            + ' to learn more about interactive tables.';\n",
              "          element.innerHTML = '';\n",
              "          dataTable['output_type'] = 'display_data';\n",
              "          await google.colab.output.renderOutput(dataTable, element);\n",
              "          const docLink = document.createElement('div');\n",
              "          docLink.innerHTML = docLinkHtml;\n",
              "          element.appendChild(docLink);\n",
              "        }\n",
              "      </script>\n",
              "    </div>\n",
              "  </div>\n",
              "  "
            ]
          },
          "metadata": {},
          "execution_count": 16
        }
      ]
    },
    {
      "cell_type": "markdown",
      "source": [
        "### Добавим категориальный столбец с КПП"
      ],
      "metadata": {
        "id": "b8MG92VopbJk"
      }
    },
    {
      "cell_type": "code",
      "source": [
        "transmission_type = {\"Manual\": 0, \"Automatic\": 1}\n",
        "df_std[\"Transmission_num\"] = df_std[\"Transmission\"].map(transmission_type)"
      ],
      "metadata": {
        "id": "FZ2JO9qUqGJT"
      },
      "execution_count": 17,
      "outputs": []
    },
    {
      "cell_type": "markdown",
      "source": [
        "### Разобьем на тестовую и тренировочную выборку"
      ],
      "metadata": {
        "id": "p_crXCOipMrJ"
      }
    },
    {
      "cell_type": "code",
      "source": [
        "X = df_std[num_columns].values \n",
        "y = df_std[\"Transmission_num\"].values \n",
        "\n",
        "X_train, X_test, y_train, y_test = train_test_split(X, y, test_size=0.25, random_state=22)"
      ],
      "metadata": {
        "id": "4HP8p5s5iRDi"
      },
      "execution_count": 18,
      "outputs": []
    },
    {
      "cell_type": "markdown",
      "source": [
        "### Создаем модель"
      ],
      "metadata": {
        "id": "LhoHOMMKpmpK"
      }
    },
    {
      "cell_type": "code",
      "source": [
        "log_std = LogisticRegression(fit_intercept=True, penalty=\"l2\", solver=\"saga\", C=1, max_iter=100000)\n",
        "log_std.fit(X_train, y_train)"
      ],
      "metadata": {
        "colab": {
          "base_uri": "https://localhost:8080/"
        },
        "id": "JTTzMHdtiW2I",
        "outputId": "b97fb6e9-b384-4e8e-ae10-a473410d76d7"
      },
      "execution_count": 19,
      "outputs": [
        {
          "output_type": "execute_result",
          "data": {
            "text/plain": [
              "LogisticRegression(C=1, max_iter=100000, solver='saga')"
            ]
          },
          "metadata": {},
          "execution_count": 19
        }
      ]
    },
    {
      "cell_type": "code",
      "source": [
        "y_predict = log_std.predict(X_test)"
      ],
      "metadata": {
        "id": "8EtVY3hsidSw"
      },
      "execution_count": 20,
      "outputs": []
    },
    {
      "cell_type": "code",
      "source": [
        "print(classification_report(y_test, y_predict, target_names=[\"Manual\",\"Auto\"]))"
      ],
      "metadata": {
        "colab": {
          "base_uri": "https://localhost:8080/"
        },
        "id": "4qC3OGTYi34C",
        "outputId": "9e8743a3-1ad7-46c3-b40c-b2f0488d9456"
      },
      "execution_count": 21,
      "outputs": [
        {
          "output_type": "stream",
          "name": "stdout",
          "text": [
            "              precision    recall  f1-score   support\n",
            "\n",
            "      Manual       0.80      0.87      0.83      4473\n",
            "        Auto       0.82      0.74      0.78      3676\n",
            "\n",
            "    accuracy                           0.81      8149\n",
            "   macro avg       0.81      0.80      0.81      8149\n",
            "weighted avg       0.81      0.81      0.81      8149\n",
            "\n"
          ]
        }
      ]
    },
    {
      "cell_type": "code",
      "source": [
        "print(\"Test score: {:.4f}\".format(log_std.score(X_test, y_test)))\n",
        "print(\"Train score: {:.4f}\".format(log_std.score(X_train, y_train)))"
      ],
      "metadata": {
        "colab": {
          "base_uri": "https://localhost:8080/"
        },
        "id": "drUBOOr_ikd0",
        "outputId": "bd2a9648-2607-4fa3-ed90-47fea1c7a2f2"
      },
      "execution_count": 22,
      "outputs": [
        {
          "output_type": "stream",
          "name": "stdout",
          "text": [
            "Test score: 0.8098\n",
            "Train score: 0.8059\n"
          ]
        }
      ]
    },
    {
      "cell_type": "code",
      "source": [
        "conf_matrix(y_test, y_predict)"
      ],
      "metadata": {
        "colab": {
          "base_uri": "https://localhost:8080/"
        },
        "id": "ncuwXxs9iqyw",
        "outputId": "e8d39a4f-27f8-4f3b-d81f-3ac53a4e6774"
      },
      "execution_count": 23,
      "outputs": [
        {
          "output_type": "stream",
          "name": "stdout",
          "text": [
            "Истинно-отрицательные результаты:   3883\n",
            "Истинно-положительные результаты:  2716\n",
            "Ложно-положительные результаты: 590\n",
            "Ложно-отрицательные результаты: 960\n",
            "\n",
            "Доля правильных ответов алгоритма:  0.81\n",
            "Точность: 0.822\n",
            "Полнота:    0.739\n",
            "Специфичность: 0.868\n",
            "Отрицательные:  0.802\n"
          ]
        }
      ]
    },
    {
      "cell_type": "markdown",
      "source": [
        "Баланс результатов был бы не плох если бы не просевшая полнота"
      ],
      "metadata": {
        "id": "BmxymQav6e-X"
      }
    },
    {
      "cell_type": "code",
      "source": [
        "roc_auc(y_test, y_predict)"
      ],
      "metadata": {
        "colab": {
          "base_uri": "https://localhost:8080/",
          "height": 475
        },
        "id": "-FSLA0fiisMJ",
        "outputId": "2e8aa4f8-3c6c-4f4f-e63b-0b509dd475f6"
      },
      "execution_count": 24,
      "outputs": [
        {
          "output_type": "display_data",
          "data": {
            "text/plain": [
              "<Figure size 432x288 with 0 Axes>"
            ]
          },
          "metadata": {}
        },
        {
          "output_type": "display_data",
          "data": {
            "text/plain": [
              "<Figure size 504x504 with 1 Axes>"
            ],
            "image/png": "[encoded data removed]"
          },
          "metadata": {
            "needs_background": "light"
          }
        }
      ]
    },
    {
      "cell_type": "markdown",
      "source": [
        "Судя по графику - результат незначительно улучшился"
      ],
      "metadata": {
        "id": "G-woMmWS7A3F"
      }
    },
    {
      "cell_type": "markdown",
      "source": [
        "# Нормализованные данные"
      ],
      "metadata": {
        "id": "T85i-hhAnzxC"
      }
    },
    {
      "cell_type": "markdown",
      "source": [
        "### Скачиваем сохраненную таблицу со стандартизированными данными"
      ],
      "metadata": {
        "id": "GOJcfXN_Wu_-"
      }
    },
    {
      "cell_type": "code",
      "source": [
        "df_norm = pd_read_csv(\"https://raw.githubusercontent.com/dzailz/MFoML/main/cars_moldova_norm.csv\")\n",
        "df_norm.drop(columns=\"Age\")\n",
        "df_norm[num_columns].head(5)"
      ],
      "metadata": {
        "colab": {
          "base_uri": "https://localhost:8080/",
          "height": 206
        },
        "id": "9YvsrLiEn1Ht",
        "outputId": "56a87d06-c43e-4c15-b48f-fb5e90b8864b"
      },
      "execution_count": 25,
      "outputs": [
        {
          "output_type": "execute_result",
          "data": {
            "text/plain": [
              "   Year  Distance  Engine_capacity(cm3)  Price(euro)   km_year  price/km\n",
              "0  0.80  0.194919                  0.36     0.075651  0.353252  0.039744\n",
              "1  0.86  0.134913                  0.30     0.083667  0.336172  0.063333\n",
              "2  0.82  0.109911                  0.30     0.063627  0.218437  0.059545\n",
              "3  0.70  0.199920                  0.32     0.039078  0.248497  0.020500\n",
              "4  0.58  0.299930                  0.44     0.032966  0.271270  0.011633"
            ],
            "text/html": [
              "\n",
              "  <div id=\"df-59ec5cb7-3a72-43da-9ad2-aa8c7baf4e7a\">\n",
              "    <div class=\"colab-df-container\">\n",
              "      <div>\n",
              "<style scoped>\n",
              "    .dataframe tbody tr th:only-of-type {\n",
              "        vertical-align: middle;\n",
              "    }\n",
              "\n",
              "    .dataframe tbody tr th {\n",
              "        vertical-align: top;\n",
              "    }\n",
              "\n",
              "    .dataframe thead th {\n",
              "        text-align: right;\n",
              "    }\n",
              "</style>\n",
              "<table border=\"1\" class=\"dataframe\">\n",
              "  <thead>\n",
              "    <tr style=\"text-align: right;\">\n",
              "      <th></th>\n",
              "      <th>Year</th>\n",
              "      <th>Distance</th>\n",
              "      <th>Engine_capacity(cm3)</th>\n",
              "      <th>Price(euro)</th>\n",
              "      <th>km_year</th>\n",
              "      <th>price/km</th>\n",
              "    </tr>\n",
              "  </thead>\n",
              "  <tbody>\n",
              "    <tr>\n",
              "      <th>0</th>\n",
              "      <td>0.80</td>\n",
              "      <td>0.194919</td>\n",
              "      <td>0.36</td>\n",
              "      <td>0.075651</td>\n",
              "      <td>0.353252</td>\n",
              "      <td>0.039744</td>\n",
              "    </tr>\n",
              "    <tr>\n",
              "      <th>1</th>\n",
              "      <td>0.86</td>\n",
              "      <td>0.134913</td>\n",
              "      <td>0.30</td>\n",
              "      <td>0.083667</td>\n",
              "      <td>0.336172</td>\n",
              "      <td>0.063333</td>\n",
              "    </tr>\n",
              "    <tr>\n",
              "      <th>2</th>\n",
              "      <td>0.82</td>\n",
              "      <td>0.109911</td>\n",
              "      <td>0.30</td>\n",
              "      <td>0.063627</td>\n",
              "      <td>0.218437</td>\n",
              "      <td>0.059545</td>\n",
              "    </tr>\n",
              "    <tr>\n",
              "      <th>3</th>\n",
              "      <td>0.70</td>\n",
              "      <td>0.199920</td>\n",
              "      <td>0.32</td>\n",
              "      <td>0.039078</td>\n",
              "      <td>0.248497</td>\n",
              "      <td>0.020500</td>\n",
              "    </tr>\n",
              "    <tr>\n",
              "      <th>4</th>\n",
              "      <td>0.58</td>\n",
              "      <td>0.299930</td>\n",
              "      <td>0.44</td>\n",
              "      <td>0.032966</td>\n",
              "      <td>0.271270</td>\n",
              "      <td>0.011633</td>\n",
              "    </tr>\n",
              "  </tbody>\n",
              "</table>\n",
              "</div>\n",
              "      <button class=\"colab-df-convert\" onclick=\"convertToInteractive('df-59ec5cb7-3a72-43da-9ad2-aa8c7baf4e7a')\"\n",
              "              title=\"Convert this dataframe to an interactive table.\"\n",
              "              style=\"display:none;\">\n",
              "        \n",
              "  <svg xmlns=\"http://www.w3.org/2000/svg\" height=\"24px\"viewBox=\"0 0 24 24\"\n",
              "       width=\"24px\">\n",
              "    <path d=\"M0 0h24v24H0V0z\" fill=\"none\"/>\n",
              "    <path d=\"M18.56 5.44l.94 2.06.94-2.06 2.06-.94-2.06-.94-.94-2.06-.94 2.06-2.06.94zm-11 1L8.5 8.5l.94-2.06 2.06-.94-2.06-.94L8.5 2.5l-.94 2.06-2.06.94zm10 10l.94 2.06.94-2.06 2.06-.94-2.06-.94-.94-2.06-.94 2.06-2.06.94z\"/><path d=\"M17.41 7.96l-1.37-1.37c-.4-.4-.92-.59-1.43-.59-.52 0-1.04.2-1.43.59L10.3 9.45l-7.72 7.72c-.78.78-.78 2.05 0 2.83L4 21.41c.39.39.9.59 1.41.59.51 0 1.02-.2 1.41-.59l7.78-7.78 2.81-2.81c.8-.78.8-2.07 0-2.86zM5.41 20L4 18.59l7.72-7.72 1.47 1.35L5.41 20z\"/>\n",
              "  </svg>\n",
              "      </button>\n",
              "      \n",
              "  <style>\n",
              "    .colab-df-container {\n",
              "      display:flex;\n",
              "      flex-wrap:wrap;\n",
              "      gap: 12px;\n",
              "    }\n",
              "\n",
              "    .colab-df-convert {\n",
              "      background-color: #E8F0FE;\n",
              "      border: none;\n",
              "      border-radius: 50%;\n",
              "      cursor: pointer;\n",
              "      display: none;\n",
              "      fill: #1967D2;\n",
              "      height: 32px;\n",
              "      padding: 0 0 0 0;\n",
              "      width: 32px;\n",
              "    }\n",
              "\n",
              "    .colab-df-convert:hover {\n",
              "      background-color: #E2EBFA;\n",
              "      box-shadow: 0px 1px 2px rgba(60, 64, 67, 0.3), 0px 1px 3px 1px rgba(60, 64, 67, 0.15);\n",
              "      fill: #174EA6;\n",
              "    }\n",
              "\n",
              "    [theme=dark] .colab-df-convert {\n",
              "      background-color: #3B4455;\n",
              "      fill: #D2E3FC;\n",
              "    }\n",
              "\n",
              "    [theme=dark] .colab-df-convert:hover {\n",
              "      background-color: #434B5C;\n",
              "      box-shadow: 0px 1px 3px 1px rgba(0, 0, 0, 0.15);\n",
              "      filter: drop-shadow(0px 1px 2px rgba(0, 0, 0, 0.3));\n",
              "      fill: #FFFFFF;\n",
              "    }\n",
              "  </style>\n",
              "\n",
              "      <script>\n",
              "        const buttonEl =\n",
              "          document.querySelector('#df-59ec5cb7-3a72-43da-9ad2-aa8c7baf4e7a button.colab-df-convert');\n",
              "        buttonEl.style.display =\n",
              "          google.colab.kernel.accessAllowed ? 'block' : 'none';\n",
              "\n",
              "        async function convertToInteractive(key) {\n",
              "          const element = document.querySelector('#df-59ec5cb7-3a72-43da-9ad2-aa8c7baf4e7a');\n",
              "          const dataTable =\n",
              "            await google.colab.kernel.invokeFunction('convertToInteractive',\n",
              "                                                     [key], {});\n",
              "          if (!dataTable) return;\n",
              "\n",
              "          const docLinkHtml = 'Like what you see? Visit the ' +\n",
              "            '<a target=\"_blank\" href=https://colab.research.google.com/notebooks/data_table.ipynb>data table notebook</a>'\n",
              "            + ' to learn more about interactive tables.';\n",
              "          element.innerHTML = '';\n",
              "          dataTable['output_type'] = 'display_data';\n",
              "          await google.colab.output.renderOutput(dataTable, element);\n",
              "          const docLink = document.createElement('div');\n",
              "          docLink.innerHTML = docLinkHtml;\n",
              "          element.appendChild(docLink);\n",
              "        }\n",
              "      </script>\n",
              "    </div>\n",
              "  </div>\n",
              "  "
            ]
          },
          "metadata": {},
          "execution_count": 25
        }
      ]
    },
    {
      "cell_type": "code",
      "source": [
        "transm = {\"Manual\": 0, \"Automatic\": 1}\n",
        "df_norm[\"Transmission_num\"] = df_norm[\"Transmission\"].map(transm)"
      ],
      "metadata": {
        "id": "KuaSlSpmryba"
      },
      "execution_count": 26,
      "outputs": []
    },
    {
      "cell_type": "code",
      "source": [
        "df_norm.head(10)"
      ],
      "metadata": {
        "colab": {
          "base_uri": "https://localhost:8080/",
          "height": 407
        },
        "id": "zrj8Qg4PZ0Rs",
        "outputId": "5930c07b-738f-4deb-a677-ae552d556e18"
      },
      "execution_count": 27,
      "outputs": [
        {
          "output_type": "execute_result",
          "data": {
            "text/plain": [
              "         Make          Model  Year      Style  Distance  Engine_capacity(cm3)  \\\n",
              "0      Toyota          Prius  0.80  Hatchback  0.194919                 0.360   \n",
              "1     Renault   Grand Scenic  0.86  Universal  0.134913                 0.300   \n",
              "2     Renault         Laguna  0.82  Universal  0.109911                 0.300   \n",
              "3        Opel          Astra  0.70  Universal  0.199920                 0.320   \n",
              "4    Mercedes           Vito  0.58   Microvan  0.299930                 0.440   \n",
              "5  Volkswagen         Passat  0.78  Universal  0.289929                 0.278   \n",
              "6  Volkswagen        Touareg  0.78        SUV  0.219922                 0.480   \n",
              "7    Mercedes  Series (W124)  0.40      Sedan  0.239924                 0.460   \n",
              "8         BMW       5 Series  0.66      Sedan  0.324932                 0.060   \n",
              "9    Mercedes        E Class  0.78      Sedan  0.209921                 0.440   \n",
              "\n",
              "      Fuel_type Transmission  Price(euro)   Age   km_year  price/km luxury  \\\n",
              "0        Hybrid    Automatic     0.075651  0.20  0.353252  0.039744     no   \n",
              "1        Diesel       Manual     0.083667  0.14  0.336172  0.063333     no   \n",
              "2        Diesel       Manual     0.063627  0.18  0.218437  0.059545     no   \n",
              "3  Metan/Propan       Manual     0.039078  0.30  0.248497  0.020500     no   \n",
              "4        Diesel       Manual     0.032966  0.42  0.271270  0.011633     no   \n",
              "5        Petrol       Manual     0.054108  0.22  0.482298  0.019310     no   \n",
              "6        Diesel    Automatic     0.168337  0.22  0.365397  0.077273    yes   \n",
              "7        Petrol       Manual     0.026553  0.60  0.153145  0.011875     no   \n",
              "8        Diesel       Manual     0.032064  0.34  0.359831  0.010462     no   \n",
              "9        Diesel    Automatic     0.112224  0.22  0.348697  0.054286     no   \n",
              "\n",
              "   eco relative_age  Transmission_num  \n",
              "0  yes          old                 1  \n",
              "1   no     kind_old                 0  \n",
              "2   no     kind_old                 0  \n",
              "3   no          old                 0  \n",
              "4   no          old                 0  \n",
              "5   no          old                 0  \n",
              "6   no          old                 1  \n",
              "7   no          old                 0  \n",
              "8   no          old                 0  \n",
              "9   no          old                 1  "
            ],
            "text/html": [
              "\n",
              "  <div id=\"df-ffe12e5f-d71b-4b04-9624-40642b7d0426\">\n",
              "    <div class=\"colab-df-container\">\n",
              "      <div>\n",
              "<style scoped>\n",
              "    .dataframe tbody tr th:only-of-type {\n",
              "        vertical-align: middle;\n",
              "    }\n",
              "\n",
              "    .dataframe tbody tr th {\n",
              "        vertical-align: top;\n",
              "    }\n",
              "\n",
              "    .dataframe thead th {\n",
              "        text-align: right;\n",
              "    }\n",
              "</style>\n",
              "<table border=\"1\" class=\"dataframe\">\n",
              "  <thead>\n",
              "    <tr style=\"text-align: right;\">\n",
              "      <th></th>\n",
              "      <th>Make</th>\n",
              "      <th>Model</th>\n",
              "      <th>Year</th>\n",
              "      <th>Style</th>\n",
              "      <th>Distance</th>\n",
              "      <th>Engine_capacity(cm3)</th>\n",
              "      <th>Fuel_type</th>\n",
              "      <th>Transmission</th>\n",
              "      <th>Price(euro)</th>\n",
              "      <th>Age</th>\n",
              "      <th>km_year</th>\n",
              "      <th>price/km</th>\n",
              "      <th>luxury</th>\n",
              "      <th>eco</th>\n",
              "      <th>relative_age</th>\n",
              "      <th>Transmission_num</th>\n",
              "    </tr>\n",
              "  </thead>\n",
              "  <tbody>\n",
              "    <tr>\n",
              "      <th>0</th>\n",
              "      <td>Toyota</td>\n",
              "      <td>Prius</td>\n",
              "      <td>0.80</td>\n",
              "      <td>Hatchback</td>\n",
              "      <td>0.194919</td>\n",
              "      <td>0.360</td>\n",
              "      <td>Hybrid</td>\n",
              "      <td>Automatic</td>\n",
              "      <td>0.075651</td>\n",
              "      <td>0.20</td>\n",
              "      <td>0.353252</td>\n",
              "      <td>0.039744</td>\n",
              "      <td>no</td>\n",
              "      <td>yes</td>\n",
              "      <td>old</td>\n",
              "      <td>1</td>\n",
              "    </tr>\n",
              "    <tr>\n",
              "      <th>1</th>\n",
              "      <td>Renault</td>\n",
              "      <td>Grand Scenic</td>\n",
              "      <td>0.86</td>\n",
              "      <td>Universal</td>\n",
              "      <td>0.134913</td>\n",
              "      <td>0.300</td>\n",
              "      <td>Diesel</td>\n",
              "      <td>Manual</td>\n",
              "      <td>0.083667</td>\n",
              "      <td>0.14</td>\n",
              "      <td>0.336172</td>\n",
              "      <td>0.063333</td>\n",
              "      <td>no</td>\n",
              "      <td>no</td>\n",
              "      <td>kind_old</td>\n",
              "      <td>0</td>\n",
              "    </tr>\n",
              "    <tr>\n",
              "      <th>2</th>\n",
              "      <td>Renault</td>\n",
              "      <td>Laguna</td>\n",
              "      <td>0.82</td>\n",
              "      <td>Universal</td>\n",
              "      <td>0.109911</td>\n",
              "      <td>0.300</td>\n",
              "      <td>Diesel</td>\n",
              "      <td>Manual</td>\n",
              "      <td>0.063627</td>\n",
              "      <td>0.18</td>\n",
              "      <td>0.218437</td>\n",
              "      <td>0.059545</td>\n",
              "      <td>no</td>\n",
              "      <td>no</td>\n",
              "      <td>kind_old</td>\n",
              "      <td>0</td>\n",
              "    </tr>\n",
              "    <tr>\n",
              "      <th>3</th>\n",
              "      <td>Opel</td>\n",
              "      <td>Astra</td>\n",
              "      <td>0.70</td>\n",
              "      <td>Universal</td>\n",
              "      <td>0.199920</td>\n",
              "      <td>0.320</td>\n",
              "      <td>Metan/Propan</td>\n",
              "      <td>Manual</td>\n",
              "      <td>0.039078</td>\n",
              "      <td>0.30</td>\n",
              "      <td>0.248497</td>\n",
              "      <td>0.020500</td>\n",
              "      <td>no</td>\n",
              "      <td>no</td>\n",
              "      <td>old</td>\n",
              "      <td>0</td>\n",
              "    </tr>\n",
              "    <tr>\n",
              "      <th>4</th>\n",
              "      <td>Mercedes</td>\n",
              "      <td>Vito</td>\n",
              "      <td>0.58</td>\n",
              "      <td>Microvan</td>\n",
              "      <td>0.299930</td>\n",
              "      <td>0.440</td>\n",
              "      <td>Diesel</td>\n",
              "      <td>Manual</td>\n",
              "      <td>0.032966</td>\n",
              "      <td>0.42</td>\n",
              "      <td>0.271270</td>\n",
              "      <td>0.011633</td>\n",
              "      <td>no</td>\n",
              "      <td>no</td>\n",
              "      <td>old</td>\n",
              "      <td>0</td>\n",
              "    </tr>\n",
              "    <tr>\n",
              "      <th>5</th>\n",
              "      <td>Volkswagen</td>\n",
              "      <td>Passat</td>\n",
              "      <td>0.78</td>\n",
              "      <td>Universal</td>\n",
              "      <td>0.289929</td>\n",
              "      <td>0.278</td>\n",
              "      <td>Petrol</td>\n",
              "      <td>Manual</td>\n",
              "      <td>0.054108</td>\n",
              "      <td>0.22</td>\n",
              "      <td>0.482298</td>\n",
              "      <td>0.019310</td>\n",
              "      <td>no</td>\n",
              "      <td>no</td>\n",
              "      <td>old</td>\n",
              "      <td>0</td>\n",
              "    </tr>\n",
              "    <tr>\n",
              "      <th>6</th>\n",
              "      <td>Volkswagen</td>\n",
              "      <td>Touareg</td>\n",
              "      <td>0.78</td>\n",
              "      <td>SUV</td>\n",
              "      <td>0.219922</td>\n",
              "      <td>0.480</td>\n",
              "      <td>Diesel</td>\n",
              "      <td>Automatic</td>\n",
              "      <td>0.168337</td>\n",
              "      <td>0.22</td>\n",
              "      <td>0.365397</td>\n",
              "      <td>0.077273</td>\n",
              "      <td>yes</td>\n",
              "      <td>no</td>\n",
              "      <td>old</td>\n",
              "      <td>1</td>\n",
              "    </tr>\n",
              "    <tr>\n",
              "      <th>7</th>\n",
              "      <td>Mercedes</td>\n",
              "      <td>Series (W124)</td>\n",
              "      <td>0.40</td>\n",
              "      <td>Sedan</td>\n",
              "      <td>0.239924</td>\n",
              "      <td>0.460</td>\n",
              "      <td>Petrol</td>\n",
              "      <td>Manual</td>\n",
              "      <td>0.026553</td>\n",
              "      <td>0.60</td>\n",
              "      <td>0.153145</td>\n",
              "      <td>0.011875</td>\n",
              "      <td>no</td>\n",
              "      <td>no</td>\n",
              "      <td>old</td>\n",
              "      <td>0</td>\n",
              "    </tr>\n",
              "    <tr>\n",
              "      <th>8</th>\n",
              "      <td>BMW</td>\n",
              "      <td>5 Series</td>\n",
              "      <td>0.66</td>\n",
              "      <td>Sedan</td>\n",
              "      <td>0.324932</td>\n",
              "      <td>0.060</td>\n",
              "      <td>Diesel</td>\n",
              "      <td>Manual</td>\n",
              "      <td>0.032064</td>\n",
              "      <td>0.34</td>\n",
              "      <td>0.359831</td>\n",
              "      <td>0.010462</td>\n",
              "      <td>no</td>\n",
              "      <td>no</td>\n",
              "      <td>old</td>\n",
              "      <td>0</td>\n",
              "    </tr>\n",
              "    <tr>\n",
              "      <th>9</th>\n",
              "      <td>Mercedes</td>\n",
              "      <td>E Class</td>\n",
              "      <td>0.78</td>\n",
              "      <td>Sedan</td>\n",
              "      <td>0.209921</td>\n",
              "      <td>0.440</td>\n",
              "      <td>Diesel</td>\n",
              "      <td>Automatic</td>\n",
              "      <td>0.112224</td>\n",
              "      <td>0.22</td>\n",
              "      <td>0.348697</td>\n",
              "      <td>0.054286</td>\n",
              "      <td>no</td>\n",
              "      <td>no</td>\n",
              "      <td>old</td>\n",
              "      <td>1</td>\n",
              "    </tr>\n",
              "  </tbody>\n",
              "</table>\n",
              "</div>\n",
              "      <button class=\"colab-df-convert\" onclick=\"convertToInteractive('df-ffe12e5f-d71b-4b04-9624-40642b7d0426')\"\n",
              "              title=\"Convert this dataframe to an interactive table.\"\n",
              "              style=\"display:none;\">\n",
              "        \n",
              "  <svg xmlns=\"http://www.w3.org/2000/svg\" height=\"24px\"viewBox=\"0 0 24 24\"\n",
              "       width=\"24px\">\n",
              "    <path d=\"M0 0h24v24H0V0z\" fill=\"none\"/>\n",
              "    <path d=\"M18.56 5.44l.94 2.06.94-2.06 2.06-.94-2.06-.94-.94-2.06-.94 2.06-2.06.94zm-11 1L8.5 8.5l.94-2.06 2.06-.94-2.06-.94L8.5 2.5l-.94 2.06-2.06.94zm10 10l.94 2.06.94-2.06 2.06-.94-2.06-.94-.94-2.06-.94 2.06-2.06.94z\"/><path d=\"M17.41 7.96l-1.37-1.37c-.4-.4-.92-.59-1.43-.59-.52 0-1.04.2-1.43.59L10.3 9.45l-7.72 7.72c-.78.78-.78 2.05 0 2.83L4 21.41c.39.39.9.59 1.41.59.51 0 1.02-.2 1.41-.59l7.78-7.78 2.81-2.81c.8-.78.8-2.07 0-2.86zM5.41 20L4 18.59l7.72-7.72 1.47 1.35L5.41 20z\"/>\n",
              "  </svg>\n",
              "      </button>\n",
              "      \n",
              "  <style>\n",
              "    .colab-df-container {\n",
              "      display:flex;\n",
              "      flex-wrap:wrap;\n",
              "      gap: 12px;\n",
              "    }\n",
              "\n",
              "    .colab-df-convert {\n",
              "      background-color: #E8F0FE;\n",
              "      border: none;\n",
              "      border-radius: 50%;\n",
              "      cursor: pointer;\n",
              "      display: none;\n",
              "      fill: #1967D2;\n",
              "      height: 32px;\n",
              "      padding: 0 0 0 0;\n",
              "      width: 32px;\n",
              "    }\n",
              "\n",
              "    .colab-df-convert:hover {\n",
              "      background-color: #E2EBFA;\n",
              "      box-shadow: 0px 1px 2px rgba(60, 64, 67, 0.3), 0px 1px 3px 1px rgba(60, 64, 67, 0.15);\n",
              "      fill: #174EA6;\n",
              "    }\n",
              "\n",
              "    [theme=dark] .colab-df-convert {\n",
              "      background-color: #3B4455;\n",
              "      fill: #D2E3FC;\n",
              "    }\n",
              "\n",
              "    [theme=dark] .colab-df-convert:hover {\n",
              "      background-color: #434B5C;\n",
              "      box-shadow: 0px 1px 3px 1px rgba(0, 0, 0, 0.15);\n",
              "      filter: drop-shadow(0px 1px 2px rgba(0, 0, 0, 0.3));\n",
              "      fill: #FFFFFF;\n",
              "    }\n",
              "  </style>\n",
              "\n",
              "      <script>\n",
              "        const buttonEl =\n",
              "          document.querySelector('#df-ffe12e5f-d71b-4b04-9624-40642b7d0426 button.colab-df-convert');\n",
              "        buttonEl.style.display =\n",
              "          google.colab.kernel.accessAllowed ? 'block' : 'none';\n",
              "\n",
              "        async function convertToInteractive(key) {\n",
              "          const element = document.querySelector('#df-ffe12e5f-d71b-4b04-9624-40642b7d0426');\n",
              "          const dataTable =\n",
              "            await google.colab.kernel.invokeFunction('convertToInteractive',\n",
              "                                                     [key], {});\n",
              "          if (!dataTable) return;\n",
              "\n",
              "          const docLinkHtml = 'Like what you see? Visit the ' +\n",
              "            '<a target=\"_blank\" href=https://colab.research.google.com/notebooks/data_table.ipynb>data table notebook</a>'\n",
              "            + ' to learn more about interactive tables.';\n",
              "          element.innerHTML = '';\n",
              "          dataTable['output_type'] = 'display_data';\n",
              "          await google.colab.output.renderOutput(dataTable, element);\n",
              "          const docLink = document.createElement('div');\n",
              "          docLink.innerHTML = docLinkHtml;\n",
              "          element.appendChild(docLink);\n",
              "        }\n",
              "      </script>\n",
              "    </div>\n",
              "  </div>\n",
              "  "
            ]
          },
          "metadata": {},
          "execution_count": 27
        }
      ]
    },
    {
      "cell_type": "code",
      "source": [
        "X = df_norm[num_columns].values \n",
        "y = df_norm[\"Transmission_num\"].values \n",
        "\n",
        "X_train, X_test, y_train, y_test = train_test_split(X, y, test_size=0.3, random_state=22)"
      ],
      "metadata": {
        "id": "DdlM72Jfn8yJ"
      },
      "execution_count": 28,
      "outputs": []
    },
    {
      "cell_type": "markdown",
      "source": [
        "### Создим модель"
      ],
      "metadata": {
        "id": "S-ae4xgSXRVi"
      }
    },
    {
      "cell_type": "code",
      "source": [
        "# Создаем модель\n",
        "log_norm = LogisticRegression(fit_intercept=True, penalty=\"l2\", solver=\"saga\", C=1, max_iter=100000)\n",
        "log_norm.fit(X_train, y_train)"
      ],
      "metadata": {
        "colab": {
          "base_uri": "https://localhost:8080/"
        },
        "outputId": "79d6f24f-d076-48a2-c600-c4b9158aaeb9",
        "id": "SnW47MW6oL3w"
      },
      "execution_count": 29,
      "outputs": [
        {
          "output_type": "execute_result",
          "data": {
            "text/plain": [
              "LogisticRegression(C=1, max_iter=100000, solver='saga')"
            ]
          },
          "metadata": {},
          "execution_count": 29
        }
      ]
    },
    {
      "cell_type": "code",
      "source": [
        "y_predict = log_norm.predict(X_test)"
      ],
      "metadata": {
        "id": "bAfUPU8VoL3x"
      },
      "execution_count": 30,
      "outputs": []
    },
    {
      "cell_type": "markdown",
      "source": [
        "### Результаты"
      ],
      "metadata": {
        "id": "pk2U3ukM7UJm"
      }
    },
    {
      "cell_type": "code",
      "source": [
        "print (classification_report(y_test, y_predict, target_names=[\"Manual\",\"Auto\"]))"
      ],
      "metadata": {
        "colab": {
          "base_uri": "https://localhost:8080/"
        },
        "outputId": "bfa8f733-308e-4d05-aa16-119d4cc26cd0",
        "id": "MH5xghR4oL3x"
      },
      "execution_count": 31,
      "outputs": [
        {
          "output_type": "stream",
          "name": "stdout",
          "text": [
            "              precision    recall  f1-score   support\n",
            "\n",
            "      Manual       0.79      0.85      0.82      5347\n",
            "        Auto       0.81      0.73      0.77      4432\n",
            "\n",
            "    accuracy                           0.80      9779\n",
            "   macro avg       0.80      0.79      0.80      9779\n",
            "weighted avg       0.80      0.80      0.80      9779\n",
            "\n"
          ]
        }
      ]
    },
    {
      "cell_type": "code",
      "source": [
        "print('Test score: {:.4f}'.format(log_norm.score(X_test, y_test)))\n",
        "print('Train score: {:.4f}'.format(log_norm.score(X_train, y_train)))"
      ],
      "metadata": {
        "colab": {
          "base_uri": "https://localhost:8080/"
        },
        "outputId": "89bbda21-ab08-4aee-87e1-cedafe390e19",
        "id": "NlQhrGDsoL3x"
      },
      "execution_count": 32,
      "outputs": [
        {
          "output_type": "stream",
          "name": "stdout",
          "text": [
            "Test score: 0.7991\n",
            "Train score: 0.8008\n"
          ]
        }
      ]
    },
    {
      "cell_type": "code",
      "source": [
        "conf_matrix(y_test, y_predict)"
      ],
      "metadata": {
        "colab": {
          "base_uri": "https://localhost:8080/"
        },
        "outputId": "b796b896-8016-45d4-fc8f-183ebaf300a1",
        "id": "lIUvR2qHoL3x"
      },
      "execution_count": 33,
      "outputs": [
        {
          "output_type": "stream",
          "name": "stdout",
          "text": [
            "Истинно-отрицательные результаты:   4568\n",
            "Истинно-положительные результаты:  3246\n",
            "Ложно-положительные результаты: 779\n",
            "Ложно-отрицательные результаты: 1186\n",
            "\n",
            "Доля правильных ответов алгоритма:  0.799\n",
            "Точность: 0.806\n",
            "Полнота:    0.732\n",
            "Специфичность: 0.854\n",
            "Отрицательные:  0.794\n"
          ]
        }
      ]
    },
    {
      "cell_type": "markdown",
      "source": [
        "Баланс результатов практически тот же. "
      ],
      "metadata": {
        "id": "FlrA33TB7Z9-"
      }
    },
    {
      "cell_type": "code",
      "source": [
        "roc_auc(y_test, y_predict);"
      ],
      "metadata": {
        "colab": {
          "base_uri": "https://localhost:8080/",
          "height": 475
        },
        "outputId": "4090b359-92da-467b-fa8d-102057cce64d",
        "id": "kqw6aDqfoL3x"
      },
      "execution_count": 34,
      "outputs": [
        {
          "output_type": "display_data",
          "data": {
            "text/plain": [
              "<Figure size 432x288 with 0 Axes>"
            ]
          },
          "metadata": {}
        },
        {
          "output_type": "display_data",
          "data": {
            "text/plain": [
              "<Figure size 504x504 with 1 Axes>"
            ],
            "image/png": "[encoded data removed]"
          },
          "metadata": {
            "needs_background": "light"
          }
        }
      ]
    },
    {
      "cell_type": "markdown",
      "source": [
        "График кривой ROC показал площадь под кривой - 0,804, что практически не отличается от стандартизации."
      ],
      "metadata": {
        "id": "luxoNwrX70mv"
      }
    },
    {
      "cell_type": "markdown",
      "source": [
        "# One-hot encoding"
      ],
      "metadata": {
        "id": "L-Vee0fgsijm"
      }
    },
    {
      "cell_type": "markdown",
      "source": [
        "### Скачиваем таблицу с данными закодированы OneHotEncoding"
      ],
      "metadata": {
        "id": "wTSJtvStbcTu"
      }
    },
    {
      "cell_type": "code",
      "source": [
        "df_ohe = pd_read_csv(\"https://raw.githubusercontent.com/dzailz/MFoML/main/cars_moldova_onehot.csv\")\n",
        "df_ohe.drop(columns = \"Age\")"
      ],
      "metadata": {
        "id": "52hLiNhWso82",
        "colab": {
          "base_uri": "https://localhost:8080/",
          "height": 505
        },
        "outputId": "89669c39-bcd5-412e-d394-38b1e2257bb7"
      },
      "execution_count": 35,
      "outputs": [
        {
          "output_type": "execute_result",
          "data": {
            "text/plain": [
              "       Year  Distance  Engine_capacity(cm3)  Price(euro)       km_year  \\\n",
              "0      2011  195000.0                1800.0       7750.0  17727.272727   \n",
              "1      2014  135000.0                1500.0       8550.0  16875.000000   \n",
              "2      2012  110000.0                1500.0       6550.0  11000.000000   \n",
              "3      2006  200000.0                1600.0       4100.0  12500.000000   \n",
              "4      2000  300000.0                2200.0       3490.0  13636.363636   \n",
              "...     ...       ...                   ...          ...           ...   \n",
              "32590  2016   88000.0                1800.0      11500.0  14666.666667   \n",
              "32591  2002  225000.0                1800.0       4400.0  11250.000000   \n",
              "32592  2015   89000.0                1500.0       7000.0  12714.285714   \n",
              "32593  2006  370000.0                2000.0       4000.0  23125.000000   \n",
              "32594  2006  300000.0                1500.0       4000.0  18750.000000   \n",
              "\n",
              "       price/km  Make_Alfa Romeo  Make_Audi  Make_BMW  Make_Chevrolet  ...  \\\n",
              "0      0.039744                0          0         0               0  ...   \n",
              "1      0.063333                0          0         0               0  ...   \n",
              "2      0.059545                0          0         0               0  ...   \n",
              "3      0.020500                0          0         0               0  ...   \n",
              "4      0.011633                0          0         0               0  ...   \n",
              "...         ...              ...        ...       ...             ...  ...   \n",
              "32590  0.130682                0          0         0               0  ...   \n",
              "32591  0.019556                0          0         0               0  ...   \n",
              "32592  0.078652                0          0         0               0  ...   \n",
              "32593  0.010811                0          0         0               0  ...   \n",
              "32594  0.013333                0          0         0               0  ...   \n",
              "\n",
              "       Fuel_type_Petrol  Fuel_type_Plug-in Hybrid  Transmission_Automatic  \\\n",
              "0                     0                         0                       1   \n",
              "1                     0                         0                       0   \n",
              "2                     0                         0                       0   \n",
              "3                     0                         0                       0   \n",
              "4                     0                         0                       0   \n",
              "...                 ...                       ...                     ...   \n",
              "32590                 1                         0                       1   \n",
              "32591                 0                         0                       0   \n",
              "32592                 0                         0                       0   \n",
              "32593                 0                         0                       0   \n",
              "32594                 0                         0                       0   \n",
              "\n",
              "       Transmission_Manual  luxury_no  luxury_yes  eco_no  eco_yes  \\\n",
              "0                        0          1           0       0        1   \n",
              "1                        1          1           0       1        0   \n",
              "2                        1          1           0       1        0   \n",
              "3                        1          1           0       1        0   \n",
              "4                        1          1           0       1        0   \n",
              "...                    ...        ...         ...     ...      ...   \n",
              "32590                    0          1           0       1        0   \n",
              "32591                    1          1           0       1        0   \n",
              "32592                    1          1           0       1        0   \n",
              "32593                    1          1           0       1        0   \n",
              "32594                    1          1           0       1        0   \n",
              "\n",
              "       relative_age_kind_old  relative_age_old  \n",
              "0                          0                 1  \n",
              "1                          1                 0  \n",
              "2                          1                 0  \n",
              "3                          0                 1  \n",
              "4                          0                 1  \n",
              "...                      ...               ...  \n",
              "32590                      1                 0  \n",
              "32591                      0                 1  \n",
              "32592                      1                 0  \n",
              "32593                      0                 1  \n",
              "32594                      0                 1  \n",
              "\n",
              "[32595 rows x 215 columns]"
            ],
            "text/html": [
              "\n",
              "  <div id=\"df-30f3ffda-f010-46de-98ee-5968c3c02903\">\n",
              "    <div class=\"colab-df-container\">\n",
              "      <div>\n",
              "<style scoped>\n",
              "    .dataframe tbody tr th:only-of-type {\n",
              "        vertical-align: middle;\n",
              "    }\n",
              "\n",
              "    .dataframe tbody tr th {\n",
              "        vertical-align: top;\n",
              "    }\n",
              "\n",
              "    .dataframe thead th {\n",
              "        text-align: right;\n",
              "    }\n",
              "</style>\n",
              "<table border=\"1\" class=\"dataframe\">\n",
              "  <thead>\n",
              "    <tr style=\"text-align: right;\">\n",
              "      <th></th>\n",
              "      <th>Year</th>\n",
              "      <th>Distance</th>\n",
              "      <th>Engine_capacity(cm3)</th>\n",
              "      <th>Price(euro)</th>\n",
              "      <th>km_year</th>\n",
              "      <th>price/km</th>\n",
              "      <th>Make_Alfa Romeo</th>\n",
              "      <th>Make_Audi</th>\n",
              "      <th>Make_BMW</th>\n",
              "      <th>Make_Chevrolet</th>\n",
              "      <th>...</th>\n",
              "      <th>Fuel_type_Petrol</th>\n",
              "      <th>Fuel_type_Plug-in Hybrid</th>\n",
              "      <th>Transmission_Automatic</th>\n",
              "      <th>Transmission_Manual</th>\n",
              "      <th>luxury_no</th>\n",
              "      <th>luxury_yes</th>\n",
              "      <th>eco_no</th>\n",
              "      <th>eco_yes</th>\n",
              "      <th>relative_age_kind_old</th>\n",
              "      <th>relative_age_old</th>\n",
              "    </tr>\n",
              "  </thead>\n",
              "  <tbody>\n",
              "    <tr>\n",
              "      <th>0</th>\n",
              "      <td>2011</td>\n",
              "      <td>195000.0</td>\n",
              "      <td>1800.0</td>\n",
              "      <td>7750.0</td>\n",
              "      <td>17727.272727</td>\n",
              "      <td>0.039744</td>\n",
              "      <td>0</td>\n",
              "      <td>0</td>\n",
              "      <td>0</td>\n",
              "      <td>0</td>\n",
              "      <td>...</td>\n",
              "      <td>0</td>\n",
              "      <td>0</td>\n",
              "      <td>1</td>\n",
              "      <td>0</td>\n",
              "      <td>1</td>\n",
              "      <td>0</td>\n",
              "      <td>0</td>\n",
              "      <td>1</td>\n",
              "      <td>0</td>\n",
              "      <td>1</td>\n",
              "    </tr>\n",
              "    <tr>\n",
              "      <th>1</th>\n",
              "      <td>2014</td>\n",
              "      <td>135000.0</td>\n",
              "      <td>1500.0</td>\n",
              "      <td>8550.0</td>\n",
              "      <td>16875.000000</td>\n",
              "      <td>0.063333</td>\n",
              "      <td>0</td>\n",
              "      <td>0</td>\n",
              "      <td>0</td>\n",
              "      <td>0</td>\n",
              "      <td>...</td>\n",
              "      <td>0</td>\n",
              "      <td>0</td>\n",
              "      <td>0</td>\n",
              "      <td>1</td>\n",
              "      <td>1</td>\n",
              "      <td>0</td>\n",
              "      <td>1</td>\n",
              "      <td>0</td>\n",
              "      <td>1</td>\n",
              "      <td>0</td>\n",
              "    </tr>\n",
              "    <tr>\n",
              "      <th>2</th>\n",
              "      <td>2012</td>\n",
              "      <td>110000.0</td>\n",
              "      <td>1500.0</td>\n",
              "      <td>6550.0</td>\n",
              "      <td>11000.000000</td>\n",
              "      <td>0.059545</td>\n",
              "      <td>0</td>\n",
              "      <td>0</td>\n",
              "      <td>0</td>\n",
              "      <td>0</td>\n",
              "      <td>...</td>\n",
              "      <td>0</td>\n",
              "      <td>0</td>\n",
              "      <td>0</td>\n",
              "      <td>1</td>\n",
              "      <td>1</td>\n",
              "      <td>0</td>\n",
              "      <td>1</td>\n",
              "      <td>0</td>\n",
              "      <td>1</td>\n",
              "      <td>0</td>\n",
              "    </tr>\n",
              "    <tr>\n",
              "      <th>3</th>\n",
              "      <td>2006</td>\n",
              "      <td>200000.0</td>\n",
              "      <td>1600.0</td>\n",
              "      <td>4100.0</td>\n",
              "      <td>12500.000000</td>\n",
              "      <td>0.020500</td>\n",
              "      <td>0</td>\n",
              "      <td>0</td>\n",
              "      <td>0</td>\n",
              "      <td>0</td>\n",
              "      <td>...</td>\n",
              "      <td>0</td>\n",
              "      <td>0</td>\n",
              "      <td>0</td>\n",
              "      <td>1</td>\n",
              "      <td>1</td>\n",
              "      <td>0</td>\n",
              "      <td>1</td>\n",
              "      <td>0</td>\n",
              "      <td>0</td>\n",
              "      <td>1</td>\n",
              "    </tr>\n",
              "    <tr>\n",
              "      <th>4</th>\n",
              "      <td>2000</td>\n",
              "      <td>300000.0</td>\n",
              "      <td>2200.0</td>\n",
              "      <td>3490.0</td>\n",
              "      <td>13636.363636</td>\n",
              "      <td>0.011633</td>\n",
              "      <td>0</td>\n",
              "      <td>0</td>\n",
              "      <td>0</td>\n",
              "      <td>0</td>\n",
              "      <td>...</td>\n",
              "      <td>0</td>\n",
              "      <td>0</td>\n",
              "      <td>0</td>\n",
              "      <td>1</td>\n",
              "      <td>1</td>\n",
              "      <td>0</td>\n",
              "      <td>1</td>\n",
              "      <td>0</td>\n",
              "      <td>0</td>\n",
              "      <td>1</td>\n",
              "    </tr>\n",
              "    <tr>\n",
              "      <th>...</th>\n",
              "      <td>...</td>\n",
              "      <td>...</td>\n",
              "      <td>...</td>\n",
              "      <td>...</td>\n",
              "      <td>...</td>\n",
              "      <td>...</td>\n",
              "      <td>...</td>\n",
              "      <td>...</td>\n",
              "      <td>...</td>\n",
              "      <td>...</td>\n",
              "      <td>...</td>\n",
              "      <td>...</td>\n",
              "      <td>...</td>\n",
              "      <td>...</td>\n",
              "      <td>...</td>\n",
              "      <td>...</td>\n",
              "      <td>...</td>\n",
              "      <td>...</td>\n",
              "      <td>...</td>\n",
              "      <td>...</td>\n",
              "      <td>...</td>\n",
              "    </tr>\n",
              "    <tr>\n",
              "      <th>32590</th>\n",
              "      <td>2016</td>\n",
              "      <td>88000.0</td>\n",
              "      <td>1800.0</td>\n",
              "      <td>11500.0</td>\n",
              "      <td>14666.666667</td>\n",
              "      <td>0.130682</td>\n",
              "      <td>0</td>\n",
              "      <td>0</td>\n",
              "      <td>0</td>\n",
              "      <td>0</td>\n",
              "      <td>...</td>\n",
              "      <td>1</td>\n",
              "      <td>0</td>\n",
              "      <td>1</td>\n",
              "      <td>0</td>\n",
              "      <td>1</td>\n",
              "      <td>0</td>\n",
              "      <td>1</td>\n",
              "      <td>0</td>\n",
              "      <td>1</td>\n",
              "      <td>0</td>\n",
              "    </tr>\n",
              "    <tr>\n",
              "      <th>32591</th>\n",
              "      <td>2002</td>\n",
              "      <td>225000.0</td>\n",
              "      <td>1800.0</td>\n",
              "      <td>4400.0</td>\n",
              "      <td>11250.000000</td>\n",
              "      <td>0.019556</td>\n",
              "      <td>0</td>\n",
              "      <td>0</td>\n",
              "      <td>0</td>\n",
              "      <td>0</td>\n",
              "      <td>...</td>\n",
              "      <td>0</td>\n",
              "      <td>0</td>\n",
              "      <td>0</td>\n",
              "      <td>1</td>\n",
              "      <td>1</td>\n",
              "      <td>0</td>\n",
              "      <td>1</td>\n",
              "      <td>0</td>\n",
              "      <td>0</td>\n",
              "      <td>1</td>\n",
              "    </tr>\n",
              "    <tr>\n",
              "      <th>32592</th>\n",
              "      <td>2015</td>\n",
              "      <td>89000.0</td>\n",
              "      <td>1500.0</td>\n",
              "      <td>7000.0</td>\n",
              "      <td>12714.285714</td>\n",
              "      <td>0.078652</td>\n",
              "      <td>0</td>\n",
              "      <td>0</td>\n",
              "      <td>0</td>\n",
              "      <td>0</td>\n",
              "      <td>...</td>\n",
              "      <td>0</td>\n",
              "      <td>0</td>\n",
              "      <td>0</td>\n",
              "      <td>1</td>\n",
              "      <td>1</td>\n",
              "      <td>0</td>\n",
              "      <td>1</td>\n",
              "      <td>0</td>\n",
              "      <td>1</td>\n",
              "      <td>0</td>\n",
              "    </tr>\n",
              "    <tr>\n",
              "      <th>32593</th>\n",
              "      <td>2006</td>\n",
              "      <td>370000.0</td>\n",
              "      <td>2000.0</td>\n",
              "      <td>4000.0</td>\n",
              "      <td>23125.000000</td>\n",
              "      <td>0.010811</td>\n",
              "      <td>0</td>\n",
              "      <td>0</td>\n",
              "      <td>0</td>\n",
              "      <td>0</td>\n",
              "      <td>...</td>\n",
              "      <td>0</td>\n",
              "      <td>0</td>\n",
              "      <td>0</td>\n",
              "      <td>1</td>\n",
              "      <td>1</td>\n",
              "      <td>0</td>\n",
              "      <td>1</td>\n",
              "      <td>0</td>\n",
              "      <td>0</td>\n",
              "      <td>1</td>\n",
              "    </tr>\n",
              "    <tr>\n",
              "      <th>32594</th>\n",
              "      <td>2006</td>\n",
              "      <td>300000.0</td>\n",
              "      <td>1500.0</td>\n",
              "      <td>4000.0</td>\n",
              "      <td>18750.000000</td>\n",
              "      <td>0.013333</td>\n",
              "      <td>0</td>\n",
              "      <td>0</td>\n",
              "      <td>0</td>\n",
              "      <td>0</td>\n",
              "      <td>...</td>\n",
              "      <td>0</td>\n",
              "      <td>0</td>\n",
              "      <td>0</td>\n",
              "      <td>1</td>\n",
              "      <td>1</td>\n",
              "      <td>0</td>\n",
              "      <td>1</td>\n",
              "      <td>0</td>\n",
              "      <td>0</td>\n",
              "      <td>1</td>\n",
              "    </tr>\n",
              "  </tbody>\n",
              "</table>\n",
              "<p>32595 rows × 215 columns</p>\n",
              "</div>\n",
              "      <button class=\"colab-df-convert\" onclick=\"convertToInteractive('df-30f3ffda-f010-46de-98ee-5968c3c02903')\"\n",
              "              title=\"Convert this dataframe to an interactive table.\"\n",
              "              style=\"display:none;\">\n",
              "        \n",
              "  <svg xmlns=\"http://www.w3.org/2000/svg\" height=\"24px\"viewBox=\"0 0 24 24\"\n",
              "       width=\"24px\">\n",
              "    <path d=\"M0 0h24v24H0V0z\" fill=\"none\"/>\n",
              "    <path d=\"M18.56 5.44l.94 2.06.94-2.06 2.06-.94-2.06-.94-.94-2.06-.94 2.06-2.06.94zm-11 1L8.5 8.5l.94-2.06 2.06-.94-2.06-.94L8.5 2.5l-.94 2.06-2.06.94zm10 10l.94 2.06.94-2.06 2.06-.94-2.06-.94-.94-2.06-.94 2.06-2.06.94z\"/><path d=\"M17.41 7.96l-1.37-1.37c-.4-.4-.92-.59-1.43-.59-.52 0-1.04.2-1.43.59L10.3 9.45l-7.72 7.72c-.78.78-.78 2.05 0 2.83L4 21.41c.39.39.9.59 1.41.59.51 0 1.02-.2 1.41-.59l7.78-7.78 2.81-2.81c.8-.78.8-2.07 0-2.86zM5.41 20L4 18.59l7.72-7.72 1.47 1.35L5.41 20z\"/>\n",
              "  </svg>\n",
              "      </button>\n",
              "      \n",
              "  <style>\n",
              "    .colab-df-container {\n",
              "      display:flex;\n",
              "      flex-wrap:wrap;\n",
              "      gap: 12px;\n",
              "    }\n",
              "\n",
              "    .colab-df-convert {\n",
              "      background-color: #E8F0FE;\n",
              "      border: none;\n",
              "      border-radius: 50%;\n",
              "      cursor: pointer;\n",
              "      display: none;\n",
              "      fill: #1967D2;\n",
              "      height: 32px;\n",
              "      padding: 0 0 0 0;\n",
              "      width: 32px;\n",
              "    }\n",
              "\n",
              "    .colab-df-convert:hover {\n",
              "      background-color: #E2EBFA;\n",
              "      box-shadow: 0px 1px 2px rgba(60, 64, 67, 0.3), 0px 1px 3px 1px rgba(60, 64, 67, 0.15);\n",
              "      fill: #174EA6;\n",
              "    }\n",
              "\n",
              "    [theme=dark] .colab-df-convert {\n",
              "      background-color: #3B4455;\n",
              "      fill: #D2E3FC;\n",
              "    }\n",
              "\n",
              "    [theme=dark] .colab-df-convert:hover {\n",
              "      background-color: #434B5C;\n",
              "      box-shadow: 0px 1px 3px 1px rgba(0, 0, 0, 0.15);\n",
              "      filter: drop-shadow(0px 1px 2px rgba(0, 0, 0, 0.3));\n",
              "      fill: #FFFFFF;\n",
              "    }\n",
              "  </style>\n",
              "\n",
              "      <script>\n",
              "        const buttonEl =\n",
              "          document.querySelector('#df-30f3ffda-f010-46de-98ee-5968c3c02903 button.colab-df-convert');\n",
              "        buttonEl.style.display =\n",
              "          google.colab.kernel.accessAllowed ? 'block' : 'none';\n",
              "\n",
              "        async function convertToInteractive(key) {\n",
              "          const element = document.querySelector('#df-30f3ffda-f010-46de-98ee-5968c3c02903');\n",
              "          const dataTable =\n",
              "            await google.colab.kernel.invokeFunction('convertToInteractive',\n",
              "                                                     [key], {});\n",
              "          if (!dataTable) return;\n",
              "\n",
              "          const docLinkHtml = 'Like what you see? Visit the ' +\n",
              "            '<a target=\"_blank\" href=https://colab.research.google.com/notebooks/data_table.ipynb>data table notebook</a>'\n",
              "            + ' to learn more about interactive tables.';\n",
              "          element.innerHTML = '';\n",
              "          dataTable['output_type'] = 'display_data';\n",
              "          await google.colab.output.renderOutput(dataTable, element);\n",
              "          const docLink = document.createElement('div');\n",
              "          docLink.innerHTML = docLinkHtml;\n",
              "          element.appendChild(docLink);\n",
              "        }\n",
              "      </script>\n",
              "    </div>\n",
              "  </div>\n",
              "  "
            ]
          },
          "metadata": {},
          "execution_count": 35
        }
      ]
    },
    {
      "cell_type": "code",
      "source": [
        "X = df_ohe.drop(columns = [\"Transmission_Automatic\", \"Transmission_Manual\"])\n",
        "y = df_norm[\"Transmission_num\"] # Возьмем числовые данные по трансмиссии из датафрейма с нормализованными данными.\n",
        "\n",
        "X_train, X_test, y_train, y_test = train_test_split(X, y, test_size=0.3, random_state=22)\n",
        "\n",
        "scaler  = MinMaxScaler()\n",
        "X_train = scaler.fit_transform(X_train)\n",
        "X_test  = scaler.transform(X_test) \n",
        "pd.DataFrame(X_train).tail()"
      ],
      "metadata": {
        "colab": {
          "base_uri": "https://localhost:8080/",
          "height": 236
        },
        "id": "j2174K9Qsy2q",
        "outputId": "18684f7a-49ac-40cc-8bae-8100d5cd4f0a"
      },
      "execution_count": 36,
      "outputs": [
        {
          "output_type": "execute_result",
          "data": {
            "text/plain": [
              "        0         1     2         3     4         5         6    7    8    \\\n",
              "22811  0.68  0.144914  0.36  0.029574  0.32  0.168926  0.000063  0.0  0.0   \n",
              "22812  0.76  0.249925  0.26  0.040602  0.24  0.383382  0.000049  0.0  0.0   \n",
              "22813  0.42  0.249925  0.38  0.019549  0.58  0.164997  0.000025  0.0  1.0   \n",
              "22814  0.74  0.260926  0.44  0.109774  0.26  0.371600  0.000124  0.0  0.0   \n",
              "22815  0.76  0.204356  0.28  0.067659  0.24  0.313143  0.000099  0.0  0.0   \n",
              "\n",
              "       9    ...  204  205  206  207  208  209  210  211  212  213  \n",
              "22811  0.0  ...  0.0  0.0  1.0  0.0  1.0  0.0  1.0  0.0  0.0  1.0  \n",
              "22812  0.0  ...  0.0  0.0  0.0  0.0  1.0  0.0  1.0  0.0  0.0  1.0  \n",
              "22813  0.0  ...  0.0  0.0  0.0  0.0  1.0  0.0  1.0  0.0  0.0  1.0  \n",
              "22814  0.0  ...  0.0  0.0  0.0  0.0  1.0  0.0  1.0  0.0  0.0  1.0  \n",
              "22815  0.0  ...  0.0  0.0  1.0  0.0  1.0  0.0  1.0  0.0  0.0  1.0  \n",
              "\n",
              "[5 rows x 214 columns]"
            ],
            "text/html": [
              "\n",
              "  <div id=\"df-6b2b15ce-2a0c-4f17-975c-00d1f73e5c83\">\n",
              "    <div class=\"colab-df-container\">\n",
              "      <div>\n",
              "<style scoped>\n",
              "    .dataframe tbody tr th:only-of-type {\n",
              "        vertical-align: middle;\n",
              "    }\n",
              "\n",
              "    .dataframe tbody tr th {\n",
              "        vertical-align: top;\n",
              "    }\n",
              "\n",
              "    .dataframe thead th {\n",
              "        text-align: right;\n",
              "    }\n",
              "</style>\n",
              "<table border=\"1\" class=\"dataframe\">\n",
              "  <thead>\n",
              "    <tr style=\"text-align: right;\">\n",
              "      <th></th>\n",
              "      <th>0</th>\n",
              "      <th>1</th>\n",
              "      <th>2</th>\n",
              "      <th>3</th>\n",
              "      <th>4</th>\n",
              "      <th>5</th>\n",
              "      <th>6</th>\n",
              "      <th>7</th>\n",
              "      <th>8</th>\n",
              "      <th>9</th>\n",
              "      <th>...</th>\n",
              "      <th>204</th>\n",
              "      <th>205</th>\n",
              "      <th>206</th>\n",
              "      <th>207</th>\n",
              "      <th>208</th>\n",
              "      <th>209</th>\n",
              "      <th>210</th>\n",
              "      <th>211</th>\n",
              "      <th>212</th>\n",
              "      <th>213</th>\n",
              "    </tr>\n",
              "  </thead>\n",
              "  <tbody>\n",
              "    <tr>\n",
              "      <th>22811</th>\n",
              "      <td>0.68</td>\n",
              "      <td>0.144914</td>\n",
              "      <td>0.36</td>\n",
              "      <td>0.029574</td>\n",
              "      <td>0.32</td>\n",
              "      <td>0.168926</td>\n",
              "      <td>0.000063</td>\n",
              "      <td>0.0</td>\n",
              "      <td>0.0</td>\n",
              "      <td>0.0</td>\n",
              "      <td>...</td>\n",
              "      <td>0.0</td>\n",
              "      <td>0.0</td>\n",
              "      <td>1.0</td>\n",
              "      <td>0.0</td>\n",
              "      <td>1.0</td>\n",
              "      <td>0.0</td>\n",
              "      <td>1.0</td>\n",
              "      <td>0.0</td>\n",
              "      <td>0.0</td>\n",
              "      <td>1.0</td>\n",
              "    </tr>\n",
              "    <tr>\n",
              "      <th>22812</th>\n",
              "      <td>0.76</td>\n",
              "      <td>0.249925</td>\n",
              "      <td>0.26</td>\n",
              "      <td>0.040602</td>\n",
              "      <td>0.24</td>\n",
              "      <td>0.383382</td>\n",
              "      <td>0.000049</td>\n",
              "      <td>0.0</td>\n",
              "      <td>0.0</td>\n",
              "      <td>0.0</td>\n",
              "      <td>...</td>\n",
              "      <td>0.0</td>\n",
              "      <td>0.0</td>\n",
              "      <td>0.0</td>\n",
              "      <td>0.0</td>\n",
              "      <td>1.0</td>\n",
              "      <td>0.0</td>\n",
              "      <td>1.0</td>\n",
              "      <td>0.0</td>\n",
              "      <td>0.0</td>\n",
              "      <td>1.0</td>\n",
              "    </tr>\n",
              "    <tr>\n",
              "      <th>22813</th>\n",
              "      <td>0.42</td>\n",
              "      <td>0.249925</td>\n",
              "      <td>0.38</td>\n",
              "      <td>0.019549</td>\n",
              "      <td>0.58</td>\n",
              "      <td>0.164997</td>\n",
              "      <td>0.000025</td>\n",
              "      <td>0.0</td>\n",
              "      <td>1.0</td>\n",
              "      <td>0.0</td>\n",
              "      <td>...</td>\n",
              "      <td>0.0</td>\n",
              "      <td>0.0</td>\n",
              "      <td>0.0</td>\n",
              "      <td>0.0</td>\n",
              "      <td>1.0</td>\n",
              "      <td>0.0</td>\n",
              "      <td>1.0</td>\n",
              "      <td>0.0</td>\n",
              "      <td>0.0</td>\n",
              "      <td>1.0</td>\n",
              "    </tr>\n",
              "    <tr>\n",
              "      <th>22814</th>\n",
              "      <td>0.74</td>\n",
              "      <td>0.260926</td>\n",
              "      <td>0.44</td>\n",
              "      <td>0.109774</td>\n",
              "      <td>0.26</td>\n",
              "      <td>0.371600</td>\n",
              "      <td>0.000124</td>\n",
              "      <td>0.0</td>\n",
              "      <td>0.0</td>\n",
              "      <td>0.0</td>\n",
              "      <td>...</td>\n",
              "      <td>0.0</td>\n",
              "      <td>0.0</td>\n",
              "      <td>0.0</td>\n",
              "      <td>0.0</td>\n",
              "      <td>1.0</td>\n",
              "      <td>0.0</td>\n",
              "      <td>1.0</td>\n",
              "      <td>0.0</td>\n",
              "      <td>0.0</td>\n",
              "      <td>1.0</td>\n",
              "    </tr>\n",
              "    <tr>\n",
              "      <th>22815</th>\n",
              "      <td>0.76</td>\n",
              "      <td>0.204356</td>\n",
              "      <td>0.28</td>\n",
              "      <td>0.067659</td>\n",
              "      <td>0.24</td>\n",
              "      <td>0.313143</td>\n",
              "      <td>0.000099</td>\n",
              "      <td>0.0</td>\n",
              "      <td>0.0</td>\n",
              "      <td>0.0</td>\n",
              "      <td>...</td>\n",
              "      <td>0.0</td>\n",
              "      <td>0.0</td>\n",
              "      <td>1.0</td>\n",
              "      <td>0.0</td>\n",
              "      <td>1.0</td>\n",
              "      <td>0.0</td>\n",
              "      <td>1.0</td>\n",
              "      <td>0.0</td>\n",
              "      <td>0.0</td>\n",
              "      <td>1.0</td>\n",
              "    </tr>\n",
              "  </tbody>\n",
              "</table>\n",
              "<p>5 rows × 214 columns</p>\n",
              "</div>\n",
              "      <button class=\"colab-df-convert\" onclick=\"convertToInteractive('df-6b2b15ce-2a0c-4f17-975c-00d1f73e5c83')\"\n",
              "              title=\"Convert this dataframe to an interactive table.\"\n",
              "              style=\"display:none;\">\n",
              "        \n",
              "  <svg xmlns=\"http://www.w3.org/2000/svg\" height=\"24px\"viewBox=\"0 0 24 24\"\n",
              "       width=\"24px\">\n",
              "    <path d=\"M0 0h24v24H0V0z\" fill=\"none\"/>\n",
              "    <path d=\"M18.56 5.44l.94 2.06.94-2.06 2.06-.94-2.06-.94-.94-2.06-.94 2.06-2.06.94zm-11 1L8.5 8.5l.94-2.06 2.06-.94-2.06-.94L8.5 2.5l-.94 2.06-2.06.94zm10 10l.94 2.06.94-2.06 2.06-.94-2.06-.94-.94-2.06-.94 2.06-2.06.94z\"/><path d=\"M17.41 7.96l-1.37-1.37c-.4-.4-.92-.59-1.43-.59-.52 0-1.04.2-1.43.59L10.3 9.45l-7.72 7.72c-.78.78-.78 2.05 0 2.83L4 21.41c.39.39.9.59 1.41.59.51 0 1.02-.2 1.41-.59l7.78-7.78 2.81-2.81c.8-.78.8-2.07 0-2.86zM5.41 20L4 18.59l7.72-7.72 1.47 1.35L5.41 20z\"/>\n",
              "  </svg>\n",
              "      </button>\n",
              "      \n",
              "  <style>\n",
              "    .colab-df-container {\n",
              "      display:flex;\n",
              "      flex-wrap:wrap;\n",
              "      gap: 12px;\n",
              "    }\n",
              "\n",
              "    .colab-df-convert {\n",
              "      background-color: #E8F0FE;\n",
              "      border: none;\n",
              "      border-radius: 50%;\n",
              "      cursor: pointer;\n",
              "      display: none;\n",
              "      fill: #1967D2;\n",
              "      height: 32px;\n",
              "      padding: 0 0 0 0;\n",
              "      width: 32px;\n",
              "    }\n",
              "\n",
              "    .colab-df-convert:hover {\n",
              "      background-color: #E2EBFA;\n",
              "      box-shadow: 0px 1px 2px rgba(60, 64, 67, 0.3), 0px 1px 3px 1px rgba(60, 64, 67, 0.15);\n",
              "      fill: #174EA6;\n",
              "    }\n",
              "\n",
              "    [theme=dark] .colab-df-convert {\n",
              "      background-color: #3B4455;\n",
              "      fill: #D2E3FC;\n",
              "    }\n",
              "\n",
              "    [theme=dark] .colab-df-convert:hover {\n",
              "      background-color: #434B5C;\n",
              "      box-shadow: 0px 1px 3px 1px rgba(0, 0, 0, 0.15);\n",
              "      filter: drop-shadow(0px 1px 2px rgba(0, 0, 0, 0.3));\n",
              "      fill: #FFFFFF;\n",
              "    }\n",
              "  </style>\n",
              "\n",
              "      <script>\n",
              "        const buttonEl =\n",
              "          document.querySelector('#df-6b2b15ce-2a0c-4f17-975c-00d1f73e5c83 button.colab-df-convert');\n",
              "        buttonEl.style.display =\n",
              "          google.colab.kernel.accessAllowed ? 'block' : 'none';\n",
              "\n",
              "        async function convertToInteractive(key) {\n",
              "          const element = document.querySelector('#df-6b2b15ce-2a0c-4f17-975c-00d1f73e5c83');\n",
              "          const dataTable =\n",
              "            await google.colab.kernel.invokeFunction('convertToInteractive',\n",
              "                                                     [key], {});\n",
              "          if (!dataTable) return;\n",
              "\n",
              "          const docLinkHtml = 'Like what you see? Visit the ' +\n",
              "            '<a target=\"_blank\" href=https://colab.research.google.com/notebooks/data_table.ipynb>data table notebook</a>'\n",
              "            + ' to learn more about interactive tables.';\n",
              "          element.innerHTML = '';\n",
              "          dataTable['output_type'] = 'display_data';\n",
              "          await google.colab.output.renderOutput(dataTable, element);\n",
              "          const docLink = document.createElement('div');\n",
              "          docLink.innerHTML = docLinkHtml;\n",
              "          element.appendChild(docLink);\n",
              "        }\n",
              "      </script>\n",
              "    </div>\n",
              "  </div>\n",
              "  "
            ]
          },
          "metadata": {},
          "execution_count": 36
        }
      ]
    },
    {
      "cell_type": "markdown",
      "source": [
        "### Создаем модель One Hot Encoding"
      ],
      "metadata": {
        "id": "UNBAG-idcc8B"
      }
    },
    {
      "cell_type": "code",
      "source": [
        "log_ohe= LogisticRegression(fit_intercept=True, penalty=\"l2\", solver=\"saga\", C=1, max_iter=100000)\n",
        "log_ohe.fit(X_train, y_train)"
      ],
      "metadata": {
        "colab": {
          "base_uri": "https://localhost:8080/"
        },
        "outputId": "68593504-1c41-4b8c-d6ec-74df2b2b518e",
        "id": "aCAXM0gnsy2q"
      },
      "execution_count": 37,
      "outputs": [
        {
          "output_type": "execute_result",
          "data": {
            "text/plain": [
              "LogisticRegression(C=1, max_iter=100000, solver='saga')"
            ]
          },
          "metadata": {},
          "execution_count": 37
        }
      ]
    },
    {
      "cell_type": "code",
      "source": [
        "y_predict = log_ohe.predict(X_test)"
      ],
      "metadata": {
        "id": "NZqfwyEusy2q"
      },
      "execution_count": 38,
      "outputs": []
    },
    {
      "cell_type": "code",
      "source": [
        "print(classification_report(y_test, y_predict, target_names=[\"Manual\", \"Automatic\"]))"
      ],
      "metadata": {
        "colab": {
          "base_uri": "https://localhost:8080/"
        },
        "outputId": "222133e0-8e92-4b6f-9bf4-2a045a8c13d0",
        "id": "xVfRSJxDsy2r"
      },
      "execution_count": 39,
      "outputs": [
        {
          "output_type": "stream",
          "name": "stdout",
          "text": [
            "              precision    recall  f1-score   support\n",
            "\n",
            "      Manual       0.85      0.89      0.87      5347\n",
            "   Automatic       0.86      0.81      0.83      4432\n",
            "\n",
            "    accuracy                           0.85      9779\n",
            "   macro avg       0.86      0.85      0.85      9779\n",
            "weighted avg       0.85      0.85      0.85      9779\n",
            "\n"
          ]
        }
      ]
    },
    {
      "cell_type": "code",
      "source": [
        "print('Test score: {:.4f}'.format(log_ohe.score(X_test, y_test)))\n",
        "print('Train score: {:.4f}'.format(log_ohe.score(X_train, y_train)))"
      ],
      "metadata": {
        "colab": {
          "base_uri": "https://localhost:8080/"
        },
        "outputId": "ab88ac24-163b-4707-c28b-92c874d297cf",
        "id": "d0o1tOEvsy2r"
      },
      "execution_count": 40,
      "outputs": [
        {
          "output_type": "stream",
          "name": "stdout",
          "text": [
            "Test score: 0.8540\n",
            "Train score: 0.8570\n"
          ]
        }
      ]
    },
    {
      "cell_type": "code",
      "source": [
        "conf_matrix(y_test, y_predict)"
      ],
      "metadata": {
        "colab": {
          "base_uri": "https://localhost:8080/"
        },
        "outputId": "e518cd40-3701-4359-9b82-5481390c535c",
        "id": "lrXHg-hssy2r"
      },
      "execution_count": 41,
      "outputs": [
        {
          "output_type": "stream",
          "name": "stdout",
          "text": [
            "Истинно-отрицательные результаты:   4776\n",
            "Истинно-положительные результаты:  3575\n",
            "Ложно-положительные результаты: 571\n",
            "Ложно-отрицательные результаты: 857\n",
            "\n",
            "Доля правильных ответов алгоритма:  0.854\n",
            "Точность: 0.862\n",
            "Полнота:    0.807\n",
            "Специфичность: 0.893\n",
            "Отрицательные:  0.848\n"
          ]
        }
      ]
    },
    {
      "cell_type": "markdown",
      "source": [
        "Все показатели лучше, чем в прошлых тестах."
      ],
      "metadata": {
        "id": "dymxUoSd8rsz"
      }
    },
    {
      "cell_type": "code",
      "source": [
        "roc_auc(y_test, y_predict);"
      ],
      "metadata": {
        "colab": {
          "base_uri": "https://localhost:8080/",
          "height": 475
        },
        "outputId": "65208e27-28bf-4c5a-aab2-3f94a2aa4eb8",
        "id": "6WntHD8Osy2r"
      },
      "execution_count": 42,
      "outputs": [
        {
          "output_type": "display_data",
          "data": {
            "text/plain": [
              "<Figure size 432x288 with 0 Axes>"
            ]
          },
          "metadata": {}
        },
        {
          "output_type": "display_data",
          "data": {
            "text/plain": [
              "<Figure size 504x504 with 1 Axes>"
            ],
            "image/png": "[encoded data removed]"
          },
          "metadata": {
            "needs_background": "light"
          }
        }
      ]
    },
    {
      "cell_type": "markdown",
      "source": [
        "График ROC-кривой показал наилучший результат всех тестов."
      ],
      "metadata": {
        "id": "xx3C-Nn5d8fi"
      }
    },
    {
      "cell_type": "markdown",
      "source": [
        "# Выводы:"
      ],
      "metadata": {
        "id": "3P9YkUl7dyRq"
      }
    },
    {
      "cell_type": "markdown",
      "source": [
        "One Hot Encoding - Лучше всего подходит для применения вмсете с логиситческой регрессией"
      ],
      "metadata": {
        "id": "nc_V5fbI8_dN"
      }
    }
  ]
}